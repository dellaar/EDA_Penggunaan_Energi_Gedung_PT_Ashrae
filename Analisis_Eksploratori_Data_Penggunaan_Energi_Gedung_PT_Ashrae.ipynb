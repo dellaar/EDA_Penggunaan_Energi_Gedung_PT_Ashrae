{
  "cells": [
    {
      "cell_type": "markdown",
      "metadata": {
        "id": "view-in-github",
        "colab_type": "text"
      },
      "source": [
        "<a href=\"https://colab.research.google.com/github/dellaar/EDA_Penggunaan_Energi_Gedung_PT_Ashrae/blob/main/Analisis_Eksploratori_Data_Penggunaan_Energi_Gedung_PT_Ashrae.ipynb\" target=\"_parent\"><img src=\"https://colab.research.google.com/assets/colab-badge.svg\" alt=\"Open In Colab\"/></a>"
      ]
    },
    {
      "cell_type": "markdown",
      "source": [
        "# **Data Understanding**\n",
        "\n",
        "- Studi Kasus kali ini berasal dari Permasalahan Prediksi Penggunaan Energi Gedung dari PT Ashrae - American Society of Heating, Refrigerating and Air-Conditioning Engineers https://www.ashrae.org/about\n",
        "- Data lengkap dan keterangan: https://www.kaggle.com/c/ashrae-energy-prediction/data\n",
        "- Data berupa 3 buah file CSV: Informasi Tentang Gedung, Penggunaan Energi Gedung, dan Cuaca.\n",
        "- Permasalahan utama dari kasus ini sebenarnya adalah forecasting/peramalan penggunaan energi. Akan tetapi di kesempatan ini kami hanya akan melakukan EDA pada data yang ada. Hasil EDA ini kelak akan digunakan untuk melakukan analisis lebih lanjut.\n",
        "\n",
        "\n",
        "- **Variabel di Data Gedung \"gd\":**\n",
        "site_id & building_id: id lokasi dan gedung\n",
        "primary_use: Peruntukan Gedung\n",
        "square_feet: Luas bangunan gedung\n",
        "year_built: Tahun pembuatan gedung\n",
        "floor_count: Banyaknya lantai yang ada di gedung.\n",
        "- **Variabel di Data Energy Gedung \"en\" (selain building_id):**\n",
        "meter : Jenis meter reading penggunaan energy gedung.\n",
        "timestamp : Waktu saat pengukuran (per-jam)\n",
        "meter_reading: Penggunaan energy.\n",
        "- **Variabel di Data Cuaca \"cu\" (selain site_id & timestamp):**\n",
        "air_temperature: suhu udara\n",
        "cloud_coverage: ukuran berawan\n",
        "dew_temperature: suhu dew (menbun?)\n",
        "precip_depth_1_hr: precipitation (banyaknya air dari langit, karena sebab apapun)\n",
        "sea_level_pressure: Tekanan permukaan laut.\n",
        "wind_direction & wind_speed: arah dan kecepatan angin."
      ],
      "metadata": {
        "id": "-pBSh1ddPrWy"
      }
    },
    {
      "cell_type": "markdown",
      "metadata": {
        "id": "JJllu8laMB_1"
      },
      "source": [
        "# **Load data csv dari google drive**"
      ]
    },
    {
      "cell_type": "code",
      "execution_count": null,
      "metadata": {
        "colab": {
          "base_uri": "https://localhost:8080/"
        },
        "id": "tbrCxMkDc2v0",
        "outputId": "d6a21d5c-5ca3-4f9b-c934-877567ecef40"
      },
      "outputs": [
        {
          "name": "stdout",
          "output_type": "stream",
          "text": [
            "Mounted at /content/drive\n"
          ]
        }
      ],
      "source": [
        "from google.colab import drive\n",
        "drive.mount('/content/drive')"
      ]
    },
    {
      "cell_type": "code",
      "execution_count": null,
      "metadata": {
        "colab": {
          "base_uri": "https://localhost:8080/"
        },
        "id": "XeTG4XDJdPYs",
        "outputId": "bb540af4-3796-4fa2-8d30-13a0e93674f0"
      },
      "outputs": [
        {
          "name": "stdout",
          "output_type": "stream",
          "text": [
            "Archive:  /content/drive/MyDrive/ashrae-energy-prediction.zip\n",
            "  inflating: /content/data/building_metadata.csv  \n",
            "  inflating: /content/data/sample_submission.csv  \n",
            "  inflating: /content/data/test.csv  \n",
            "  inflating: /content/data/train.csv  \n",
            "  inflating: /content/data/weather_test.csv  \n",
            "  inflating: /content/data/weather_train.csv  \n"
          ]
        }
      ],
      "source": [
        "!unzip \"/content/drive/MyDrive/ashrae-energy-prediction.zip\" -d \"/content/data/\""
      ]
    },
    {
      "cell_type": "markdown",
      "metadata": {
        "id": "nryX9r7IMSHW"
      },
      "source": [
        "# **Import Depedency**\n",
        "\n",
        "\n"
      ]
    },
    {
      "cell_type": "code",
      "execution_count": null,
      "metadata": {
        "id": "tlwedgyGdPca"
      },
      "outputs": [],
      "source": [
        "import numpy as np\n",
        "import pandas as pd\n",
        "import matplotlib.pyplot as plt"
      ]
    },
    {
      "cell_type": "markdown",
      "metadata": {
        "id": "Cd6XrIA2Mgv2"
      },
      "source": [
        "# **Melihat informasi dari Data Gedung**\n",
        "\n",
        "### Mengetahui jumlah baris, kolom, dan tipe variabel dari Data Gedung"
      ]
    },
    {
      "cell_type": "code",
      "execution_count": null,
      "metadata": {
        "colab": {
          "base_uri": "https://localhost:8080/",
          "height": 453
        },
        "id": "rBuImQWbdP_8",
        "outputId": "504ea326-a0fa-40d8-a02a-fbdf5a2479bf"
      },
      "outputs": [
        {
          "name": "stdout",
          "output_type": "stream",
          "text": [
            "baris =  1449 , Kolom (jumlah variabel) =  6\n",
            "Tipe Variabel df =  <class 'pandas.core.frame.DataFrame'>\n"
          ]
        },
        {
          "data": {
            "text/html": [
              "<div>\n",
              "<style scoped>\n",
              "    .dataframe tbody tr th:only-of-type {\n",
              "        vertical-align: middle;\n",
              "    }\n",
              "\n",
              "    .dataframe tbody tr th {\n",
              "        vertical-align: top;\n",
              "    }\n",
              "\n",
              "    .dataframe thead th {\n",
              "        text-align: right;\n",
              "    }\n",
              "</style>\n",
              "<table border=\"1\" class=\"dataframe\">\n",
              "  <thead>\n",
              "    <tr style=\"text-align: right;\">\n",
              "      <th></th>\n",
              "      <th>site_id</th>\n",
              "      <th>building_id</th>\n",
              "      <th>primary_use</th>\n",
              "      <th>square_feet</th>\n",
              "      <th>year_built</th>\n",
              "      <th>floor_count</th>\n",
              "    </tr>\n",
              "  </thead>\n",
              "  <tbody>\n",
              "    <tr>\n",
              "      <th>0</th>\n",
              "      <td>0</td>\n",
              "      <td>0</td>\n",
              "      <td>Education</td>\n",
              "      <td>7432</td>\n",
              "      <td>2008.0</td>\n",
              "      <td>NaN</td>\n",
              "    </tr>\n",
              "    <tr>\n",
              "      <th>1</th>\n",
              "      <td>0</td>\n",
              "      <td>1</td>\n",
              "      <td>Education</td>\n",
              "      <td>2720</td>\n",
              "      <td>2004.0</td>\n",
              "      <td>NaN</td>\n",
              "    </tr>\n",
              "    <tr>\n",
              "      <th>2</th>\n",
              "      <td>0</td>\n",
              "      <td>2</td>\n",
              "      <td>Education</td>\n",
              "      <td>5376</td>\n",
              "      <td>1991.0</td>\n",
              "      <td>NaN</td>\n",
              "    </tr>\n",
              "    <tr>\n",
              "      <th>3</th>\n",
              "      <td>0</td>\n",
              "      <td>3</td>\n",
              "      <td>Education</td>\n",
              "      <td>23685</td>\n",
              "      <td>2002.0</td>\n",
              "      <td>NaN</td>\n",
              "    </tr>\n",
              "    <tr>\n",
              "      <th>4</th>\n",
              "      <td>0</td>\n",
              "      <td>4</td>\n",
              "      <td>Education</td>\n",
              "      <td>116607</td>\n",
              "      <td>1975.0</td>\n",
              "      <td>NaN</td>\n",
              "    </tr>\n",
              "    <tr>\n",
              "      <th>...</th>\n",
              "      <td>...</td>\n",
              "      <td>...</td>\n",
              "      <td>...</td>\n",
              "      <td>...</td>\n",
              "      <td>...</td>\n",
              "      <td>...</td>\n",
              "    </tr>\n",
              "    <tr>\n",
              "      <th>1444</th>\n",
              "      <td>15</td>\n",
              "      <td>1444</td>\n",
              "      <td>Entertainment/public assembly</td>\n",
              "      <td>19619</td>\n",
              "      <td>1914.0</td>\n",
              "      <td>NaN</td>\n",
              "    </tr>\n",
              "    <tr>\n",
              "      <th>1445</th>\n",
              "      <td>15</td>\n",
              "      <td>1445</td>\n",
              "      <td>Education</td>\n",
              "      <td>4298</td>\n",
              "      <td>NaN</td>\n",
              "      <td>NaN</td>\n",
              "    </tr>\n",
              "    <tr>\n",
              "      <th>1446</th>\n",
              "      <td>15</td>\n",
              "      <td>1446</td>\n",
              "      <td>Entertainment/public assembly</td>\n",
              "      <td>11265</td>\n",
              "      <td>1997.0</td>\n",
              "      <td>NaN</td>\n",
              "    </tr>\n",
              "    <tr>\n",
              "      <th>1447</th>\n",
              "      <td>15</td>\n",
              "      <td>1447</td>\n",
              "      <td>Lodging/residential</td>\n",
              "      <td>29775</td>\n",
              "      <td>2001.0</td>\n",
              "      <td>NaN</td>\n",
              "    </tr>\n",
              "    <tr>\n",
              "      <th>1448</th>\n",
              "      <td>15</td>\n",
              "      <td>1448</td>\n",
              "      <td>Office</td>\n",
              "      <td>92271</td>\n",
              "      <td>2001.0</td>\n",
              "      <td>NaN</td>\n",
              "    </tr>\n",
              "  </tbody>\n",
              "</table>\n",
              "<p>1449 rows × 6 columns</p>\n",
              "</div>"
            ],
            "text/plain": [
              "      site_id  building_id  ... year_built  floor_count\n",
              "0           0            0  ...     2008.0          NaN\n",
              "1           0            1  ...     2004.0          NaN\n",
              "2           0            2  ...     1991.0          NaN\n",
              "3           0            3  ...     2002.0          NaN\n",
              "4           0            4  ...     1975.0          NaN\n",
              "...       ...          ...  ...        ...          ...\n",
              "1444       15         1444  ...     1914.0          NaN\n",
              "1445       15         1445  ...        NaN          NaN\n",
              "1446       15         1446  ...     1997.0          NaN\n",
              "1447       15         1447  ...     2001.0          NaN\n",
              "1448       15         1448  ...     2001.0          NaN\n",
              "\n",
              "[1449 rows x 6 columns]"
            ]
          },
          "execution_count": 5,
          "metadata": {},
          "output_type": "execute_result"
        }
      ],
      "source": [
        "gd = pd.read_csv('/content/data/building_metadata.csv', encoding='utf8')\n",
        "\n",
        "# kita Ingin mengetahui jumlah baris, kolom, dan tipe variabel dari data building_metadata\n",
        "N, P = gd.shape\n",
        "print('baris = ', N, ', Kolom (jumlah variabel) = ', P)\n",
        "print(\"Tipe Variabel df = \", type(gd))\n",
        "gd"
      ]
    },
    {
      "cell_type": "markdown",
      "metadata": {
        "id": "m_Pg72Hk7yNX"
      },
      "source": [
        "Diketahui bahwa jumlah baris adalah 1449, jumlah kolom adalah 6, dan tipe variabelnya adalah Data Frame."
      ]
    },
    {
      "cell_type": "markdown",
      "metadata": {
        "id": "tRv1Lj-7Q-_I"
      },
      "source": [
        "# **Melihat informasi dari Data Energi Gedung**\n",
        "\n",
        "### Mengetahui jumlah baris, kolom dan tipe variabel dari Data Energi Gedung"
      ]
    },
    {
      "cell_type": "code",
      "execution_count": null,
      "metadata": {
        "colab": {
          "base_uri": "https://localhost:8080/",
          "height": 453
        },
        "id": "un9iRwmrdPsY",
        "outputId": "28e8cca6-72e4-4f57-aa26-c073f8b2e0d3"
      },
      "outputs": [
        {
          "name": "stdout",
          "output_type": "stream",
          "text": [
            "baris =  20216100 , Kolom (jumlah variabel) =  4\n",
            "Tipe Variabel df =  <class 'pandas.core.frame.DataFrame'>\n"
          ]
        },
        {
          "data": {
            "text/html": [
              "<div>\n",
              "<style scoped>\n",
              "    .dataframe tbody tr th:only-of-type {\n",
              "        vertical-align: middle;\n",
              "    }\n",
              "\n",
              "    .dataframe tbody tr th {\n",
              "        vertical-align: top;\n",
              "    }\n",
              "\n",
              "    .dataframe thead th {\n",
              "        text-align: right;\n",
              "    }\n",
              "</style>\n",
              "<table border=\"1\" class=\"dataframe\">\n",
              "  <thead>\n",
              "    <tr style=\"text-align: right;\">\n",
              "      <th></th>\n",
              "      <th>building_id</th>\n",
              "      <th>meter</th>\n",
              "      <th>timestamp</th>\n",
              "      <th>meter_reading</th>\n",
              "    </tr>\n",
              "  </thead>\n",
              "  <tbody>\n",
              "    <tr>\n",
              "      <th>0</th>\n",
              "      <td>0</td>\n",
              "      <td>0</td>\n",
              "      <td>2016-01-01 00:00:00</td>\n",
              "      <td>0.000</td>\n",
              "    </tr>\n",
              "    <tr>\n",
              "      <th>1</th>\n",
              "      <td>1</td>\n",
              "      <td>0</td>\n",
              "      <td>2016-01-01 00:00:00</td>\n",
              "      <td>0.000</td>\n",
              "    </tr>\n",
              "    <tr>\n",
              "      <th>2</th>\n",
              "      <td>2</td>\n",
              "      <td>0</td>\n",
              "      <td>2016-01-01 00:00:00</td>\n",
              "      <td>0.000</td>\n",
              "    </tr>\n",
              "    <tr>\n",
              "      <th>3</th>\n",
              "      <td>3</td>\n",
              "      <td>0</td>\n",
              "      <td>2016-01-01 00:00:00</td>\n",
              "      <td>0.000</td>\n",
              "    </tr>\n",
              "    <tr>\n",
              "      <th>4</th>\n",
              "      <td>4</td>\n",
              "      <td>0</td>\n",
              "      <td>2016-01-01 00:00:00</td>\n",
              "      <td>0.000</td>\n",
              "    </tr>\n",
              "    <tr>\n",
              "      <th>...</th>\n",
              "      <td>...</td>\n",
              "      <td>...</td>\n",
              "      <td>...</td>\n",
              "      <td>...</td>\n",
              "    </tr>\n",
              "    <tr>\n",
              "      <th>20216095</th>\n",
              "      <td>1444</td>\n",
              "      <td>0</td>\n",
              "      <td>2016-12-31 23:00:00</td>\n",
              "      <td>8.750</td>\n",
              "    </tr>\n",
              "    <tr>\n",
              "      <th>20216096</th>\n",
              "      <td>1445</td>\n",
              "      <td>0</td>\n",
              "      <td>2016-12-31 23:00:00</td>\n",
              "      <td>4.825</td>\n",
              "    </tr>\n",
              "    <tr>\n",
              "      <th>20216097</th>\n",
              "      <td>1446</td>\n",
              "      <td>0</td>\n",
              "      <td>2016-12-31 23:00:00</td>\n",
              "      <td>0.000</td>\n",
              "    </tr>\n",
              "    <tr>\n",
              "      <th>20216098</th>\n",
              "      <td>1447</td>\n",
              "      <td>0</td>\n",
              "      <td>2016-12-31 23:00:00</td>\n",
              "      <td>159.575</td>\n",
              "    </tr>\n",
              "    <tr>\n",
              "      <th>20216099</th>\n",
              "      <td>1448</td>\n",
              "      <td>0</td>\n",
              "      <td>2016-12-31 23:00:00</td>\n",
              "      <td>2.850</td>\n",
              "    </tr>\n",
              "  </tbody>\n",
              "</table>\n",
              "<p>20216100 rows × 4 columns</p>\n",
              "</div>"
            ],
            "text/plain": [
              "          building_id  meter            timestamp  meter_reading\n",
              "0                   0      0  2016-01-01 00:00:00          0.000\n",
              "1                   1      0  2016-01-01 00:00:00          0.000\n",
              "2                   2      0  2016-01-01 00:00:00          0.000\n",
              "3                   3      0  2016-01-01 00:00:00          0.000\n",
              "4                   4      0  2016-01-01 00:00:00          0.000\n",
              "...               ...    ...                  ...            ...\n",
              "20216095         1444      0  2016-12-31 23:00:00          8.750\n",
              "20216096         1445      0  2016-12-31 23:00:00          4.825\n",
              "20216097         1446      0  2016-12-31 23:00:00          0.000\n",
              "20216098         1447      0  2016-12-31 23:00:00        159.575\n",
              "20216099         1448      0  2016-12-31 23:00:00          2.850\n",
              "\n",
              "[20216100 rows x 4 columns]"
            ]
          },
          "execution_count": 6,
          "metadata": {},
          "output_type": "execute_result"
        }
      ],
      "source": [
        "en = pd.read_csv('/content/data/train.csv', encoding='utf8')\n",
        "\n",
        "N, P = en.shape # Ukuran Data\n",
        "print('baris = ', N, ', Kolom (jumlah variabel) = ', P)\n",
        "print(\"Tipe Variabel df = \", type(en))\n",
        "en"
      ]
    },
    {
      "cell_type": "markdown",
      "metadata": {
        "id": "rjjFvhXeGOKr"
      },
      "source": [
        "Diketahui jumlah baris adalah 20216100, jumlah kolom adalah 4, dan tipe variabelnya adalah Data Frame."
      ]
    },
    {
      "cell_type": "markdown",
      "metadata": {
        "id": "PdrQMJgaQ1o1"
      },
      "source": [
        "# **Melihat informasi dari Data Cuaca**\n",
        "\n",
        "### Mengetahui jumlah baris, kolom dan tipe variabel dari Data Cuaca"
      ]
    },
    {
      "cell_type": "code",
      "execution_count": null,
      "metadata": {
        "colab": {
          "base_uri": "https://localhost:8080/",
          "height": 453
        },
        "id": "jQR4SK4RdPgQ",
        "outputId": "a6641e21-ad4e-4f0b-f357-19633824e2f6"
      },
      "outputs": [
        {
          "name": "stdout",
          "output_type": "stream",
          "text": [
            "baris =  139773 , Kolom (jumlah variabel) =  9\n",
            "Tipe Variabel df =  <class 'pandas.core.frame.DataFrame'>\n"
          ]
        },
        {
          "data": {
            "text/html": [
              "<div>\n",
              "<style scoped>\n",
              "    .dataframe tbody tr th:only-of-type {\n",
              "        vertical-align: middle;\n",
              "    }\n",
              "\n",
              "    .dataframe tbody tr th {\n",
              "        vertical-align: top;\n",
              "    }\n",
              "\n",
              "    .dataframe thead th {\n",
              "        text-align: right;\n",
              "    }\n",
              "</style>\n",
              "<table border=\"1\" class=\"dataframe\">\n",
              "  <thead>\n",
              "    <tr style=\"text-align: right;\">\n",
              "      <th></th>\n",
              "      <th>site_id</th>\n",
              "      <th>timestamp</th>\n",
              "      <th>air_temperature</th>\n",
              "      <th>cloud_coverage</th>\n",
              "      <th>dew_temperature</th>\n",
              "      <th>precip_depth_1_hr</th>\n",
              "      <th>sea_level_pressure</th>\n",
              "      <th>wind_direction</th>\n",
              "      <th>wind_speed</th>\n",
              "    </tr>\n",
              "  </thead>\n",
              "  <tbody>\n",
              "    <tr>\n",
              "      <th>0</th>\n",
              "      <td>0</td>\n",
              "      <td>2016-01-01 00:00:00</td>\n",
              "      <td>25.0</td>\n",
              "      <td>6.0</td>\n",
              "      <td>20.0</td>\n",
              "      <td>NaN</td>\n",
              "      <td>1019.7</td>\n",
              "      <td>0.0</td>\n",
              "      <td>0.0</td>\n",
              "    </tr>\n",
              "    <tr>\n",
              "      <th>1</th>\n",
              "      <td>0</td>\n",
              "      <td>2016-01-01 01:00:00</td>\n",
              "      <td>24.4</td>\n",
              "      <td>NaN</td>\n",
              "      <td>21.1</td>\n",
              "      <td>-1.0</td>\n",
              "      <td>1020.2</td>\n",
              "      <td>70.0</td>\n",
              "      <td>1.5</td>\n",
              "    </tr>\n",
              "    <tr>\n",
              "      <th>2</th>\n",
              "      <td>0</td>\n",
              "      <td>2016-01-01 02:00:00</td>\n",
              "      <td>22.8</td>\n",
              "      <td>2.0</td>\n",
              "      <td>21.1</td>\n",
              "      <td>0.0</td>\n",
              "      <td>1020.2</td>\n",
              "      <td>0.0</td>\n",
              "      <td>0.0</td>\n",
              "    </tr>\n",
              "    <tr>\n",
              "      <th>3</th>\n",
              "      <td>0</td>\n",
              "      <td>2016-01-01 03:00:00</td>\n",
              "      <td>21.1</td>\n",
              "      <td>2.0</td>\n",
              "      <td>20.6</td>\n",
              "      <td>0.0</td>\n",
              "      <td>1020.1</td>\n",
              "      <td>0.0</td>\n",
              "      <td>0.0</td>\n",
              "    </tr>\n",
              "    <tr>\n",
              "      <th>4</th>\n",
              "      <td>0</td>\n",
              "      <td>2016-01-01 04:00:00</td>\n",
              "      <td>20.0</td>\n",
              "      <td>2.0</td>\n",
              "      <td>20.0</td>\n",
              "      <td>-1.0</td>\n",
              "      <td>1020.0</td>\n",
              "      <td>250.0</td>\n",
              "      <td>2.6</td>\n",
              "    </tr>\n",
              "    <tr>\n",
              "      <th>...</th>\n",
              "      <td>...</td>\n",
              "      <td>...</td>\n",
              "      <td>...</td>\n",
              "      <td>...</td>\n",
              "      <td>...</td>\n",
              "      <td>...</td>\n",
              "      <td>...</td>\n",
              "      <td>...</td>\n",
              "      <td>...</td>\n",
              "    </tr>\n",
              "    <tr>\n",
              "      <th>139768</th>\n",
              "      <td>15</td>\n",
              "      <td>2016-12-31 19:00:00</td>\n",
              "      <td>3.0</td>\n",
              "      <td>NaN</td>\n",
              "      <td>-8.0</td>\n",
              "      <td>NaN</td>\n",
              "      <td>NaN</td>\n",
              "      <td>180.0</td>\n",
              "      <td>5.7</td>\n",
              "    </tr>\n",
              "    <tr>\n",
              "      <th>139769</th>\n",
              "      <td>15</td>\n",
              "      <td>2016-12-31 20:00:00</td>\n",
              "      <td>2.8</td>\n",
              "      <td>2.0</td>\n",
              "      <td>-8.9</td>\n",
              "      <td>NaN</td>\n",
              "      <td>1007.4</td>\n",
              "      <td>180.0</td>\n",
              "      <td>7.7</td>\n",
              "    </tr>\n",
              "    <tr>\n",
              "      <th>139770</th>\n",
              "      <td>15</td>\n",
              "      <td>2016-12-31 21:00:00</td>\n",
              "      <td>2.8</td>\n",
              "      <td>NaN</td>\n",
              "      <td>-7.2</td>\n",
              "      <td>NaN</td>\n",
              "      <td>1007.5</td>\n",
              "      <td>180.0</td>\n",
              "      <td>5.1</td>\n",
              "    </tr>\n",
              "    <tr>\n",
              "      <th>139771</th>\n",
              "      <td>15</td>\n",
              "      <td>2016-12-31 22:00:00</td>\n",
              "      <td>2.2</td>\n",
              "      <td>NaN</td>\n",
              "      <td>-6.7</td>\n",
              "      <td>NaN</td>\n",
              "      <td>1008.0</td>\n",
              "      <td>170.0</td>\n",
              "      <td>4.6</td>\n",
              "    </tr>\n",
              "    <tr>\n",
              "      <th>139772</th>\n",
              "      <td>15</td>\n",
              "      <td>2016-12-31 23:00:00</td>\n",
              "      <td>1.7</td>\n",
              "      <td>NaN</td>\n",
              "      <td>-5.6</td>\n",
              "      <td>-1.0</td>\n",
              "      <td>1008.5</td>\n",
              "      <td>180.0</td>\n",
              "      <td>8.8</td>\n",
              "    </tr>\n",
              "  </tbody>\n",
              "</table>\n",
              "<p>139773 rows × 9 columns</p>\n",
              "</div>"
            ],
            "text/plain": [
              "        site_id            timestamp  ...  wind_direction  wind_speed\n",
              "0             0  2016-01-01 00:00:00  ...             0.0         0.0\n",
              "1             0  2016-01-01 01:00:00  ...            70.0         1.5\n",
              "2             0  2016-01-01 02:00:00  ...             0.0         0.0\n",
              "3             0  2016-01-01 03:00:00  ...             0.0         0.0\n",
              "4             0  2016-01-01 04:00:00  ...           250.0         2.6\n",
              "...         ...                  ...  ...             ...         ...\n",
              "139768       15  2016-12-31 19:00:00  ...           180.0         5.7\n",
              "139769       15  2016-12-31 20:00:00  ...           180.0         7.7\n",
              "139770       15  2016-12-31 21:00:00  ...           180.0         5.1\n",
              "139771       15  2016-12-31 22:00:00  ...           170.0         4.6\n",
              "139772       15  2016-12-31 23:00:00  ...           180.0         8.8\n",
              "\n",
              "[139773 rows x 9 columns]"
            ]
          },
          "execution_count": 7,
          "metadata": {},
          "output_type": "execute_result"
        }
      ],
      "source": [
        "cu = pd.read_csv('/content/data/weather_train.csv', encoding='utf8')\n",
        "\n",
        "N, P = cu.shape # Ukuran Data\n",
        "print('baris = ', N, ', Kolom (jumlah variabel) = ', P)\n",
        "print(\"Tipe Variabel df = \", type(cu))\n",
        "cu"
      ]
    },
    {
      "cell_type": "markdown",
      "metadata": {
        "id": "vlBBTLKMGZ9D"
      },
      "source": [
        "Diketahui jumlah baris adalah 139773, jumlah kolom adalah 9, dan tipe variabelnya adalah Data Frame."
      ]
    },
    {
      "cell_type": "markdown",
      "metadata": {
        "id": "OYroWb0s4G3B"
      },
      "source": [
        "# **Menggabungkan 3 Data menjadi 1 tabel (join)**"
      ]
    },
    {
      "cell_type": "code",
      "execution_count": null,
      "metadata": {
        "colab": {
          "base_uri": "https://localhost:8080/",
          "height": 779
        },
        "id": "40qrY4VCdzp1",
        "outputId": "34dd3131-84c2-4ce0-a801-0eb6f8af9511"
      },
      "outputs": [
        {
          "data": {
            "text/html": [
              "<div>\n",
              "<style scoped>\n",
              "    .dataframe tbody tr th:only-of-type {\n",
              "        vertical-align: middle;\n",
              "    }\n",
              "\n",
              "    .dataframe tbody tr th {\n",
              "        vertical-align: top;\n",
              "    }\n",
              "\n",
              "    .dataframe thead th {\n",
              "        text-align: right;\n",
              "    }\n",
              "</style>\n",
              "<table border=\"1\" class=\"dataframe\">\n",
              "  <thead>\n",
              "    <tr style=\"text-align: right;\">\n",
              "      <th></th>\n",
              "      <th>site_id</th>\n",
              "      <th>building_id</th>\n",
              "      <th>primary_use</th>\n",
              "      <th>square_feet</th>\n",
              "      <th>year_built</th>\n",
              "      <th>floor_count</th>\n",
              "      <th>building_id</th>\n",
              "      <th>meter</th>\n",
              "      <th>timestamp</th>\n",
              "      <th>meter_reading</th>\n",
              "      <th>site_id</th>\n",
              "      <th>timestamp</th>\n",
              "      <th>air_temperature</th>\n",
              "      <th>cloud_coverage</th>\n",
              "      <th>dew_temperature</th>\n",
              "      <th>precip_depth_1_hr</th>\n",
              "      <th>sea_level_pressure</th>\n",
              "      <th>wind_direction</th>\n",
              "      <th>wind_speed</th>\n",
              "    </tr>\n",
              "  </thead>\n",
              "  <tbody>\n",
              "    <tr>\n",
              "      <th>0</th>\n",
              "      <td>0.0</td>\n",
              "      <td>0.0</td>\n",
              "      <td>Education</td>\n",
              "      <td>7432.0</td>\n",
              "      <td>2008.0</td>\n",
              "      <td>NaN</td>\n",
              "      <td>0</td>\n",
              "      <td>0</td>\n",
              "      <td>2016-01-01 00:00:00</td>\n",
              "      <td>0.000</td>\n",
              "      <td>0.0</td>\n",
              "      <td>2016-01-01 00:00:00</td>\n",
              "      <td>25.0</td>\n",
              "      <td>6.0</td>\n",
              "      <td>20.0</td>\n",
              "      <td>NaN</td>\n",
              "      <td>1019.7</td>\n",
              "      <td>0.0</td>\n",
              "      <td>0.0</td>\n",
              "    </tr>\n",
              "    <tr>\n",
              "      <th>1</th>\n",
              "      <td>0.0</td>\n",
              "      <td>1.0</td>\n",
              "      <td>Education</td>\n",
              "      <td>2720.0</td>\n",
              "      <td>2004.0</td>\n",
              "      <td>NaN</td>\n",
              "      <td>1</td>\n",
              "      <td>0</td>\n",
              "      <td>2016-01-01 00:00:00</td>\n",
              "      <td>0.000</td>\n",
              "      <td>0.0</td>\n",
              "      <td>2016-01-01 01:00:00</td>\n",
              "      <td>24.4</td>\n",
              "      <td>NaN</td>\n",
              "      <td>21.1</td>\n",
              "      <td>-1.0</td>\n",
              "      <td>1020.2</td>\n",
              "      <td>70.0</td>\n",
              "      <td>1.5</td>\n",
              "    </tr>\n",
              "    <tr>\n",
              "      <th>2</th>\n",
              "      <td>0.0</td>\n",
              "      <td>2.0</td>\n",
              "      <td>Education</td>\n",
              "      <td>5376.0</td>\n",
              "      <td>1991.0</td>\n",
              "      <td>NaN</td>\n",
              "      <td>2</td>\n",
              "      <td>0</td>\n",
              "      <td>2016-01-01 00:00:00</td>\n",
              "      <td>0.000</td>\n",
              "      <td>0.0</td>\n",
              "      <td>2016-01-01 02:00:00</td>\n",
              "      <td>22.8</td>\n",
              "      <td>2.0</td>\n",
              "      <td>21.1</td>\n",
              "      <td>0.0</td>\n",
              "      <td>1020.2</td>\n",
              "      <td>0.0</td>\n",
              "      <td>0.0</td>\n",
              "    </tr>\n",
              "    <tr>\n",
              "      <th>3</th>\n",
              "      <td>0.0</td>\n",
              "      <td>3.0</td>\n",
              "      <td>Education</td>\n",
              "      <td>23685.0</td>\n",
              "      <td>2002.0</td>\n",
              "      <td>NaN</td>\n",
              "      <td>3</td>\n",
              "      <td>0</td>\n",
              "      <td>2016-01-01 00:00:00</td>\n",
              "      <td>0.000</td>\n",
              "      <td>0.0</td>\n",
              "      <td>2016-01-01 03:00:00</td>\n",
              "      <td>21.1</td>\n",
              "      <td>2.0</td>\n",
              "      <td>20.6</td>\n",
              "      <td>0.0</td>\n",
              "      <td>1020.1</td>\n",
              "      <td>0.0</td>\n",
              "      <td>0.0</td>\n",
              "    </tr>\n",
              "    <tr>\n",
              "      <th>4</th>\n",
              "      <td>0.0</td>\n",
              "      <td>4.0</td>\n",
              "      <td>Education</td>\n",
              "      <td>116607.0</td>\n",
              "      <td>1975.0</td>\n",
              "      <td>NaN</td>\n",
              "      <td>4</td>\n",
              "      <td>0</td>\n",
              "      <td>2016-01-01 00:00:00</td>\n",
              "      <td>0.000</td>\n",
              "      <td>0.0</td>\n",
              "      <td>2016-01-01 04:00:00</td>\n",
              "      <td>20.0</td>\n",
              "      <td>2.0</td>\n",
              "      <td>20.0</td>\n",
              "      <td>-1.0</td>\n",
              "      <td>1020.0</td>\n",
              "      <td>250.0</td>\n",
              "      <td>2.6</td>\n",
              "    </tr>\n",
              "    <tr>\n",
              "      <th>...</th>\n",
              "      <td>...</td>\n",
              "      <td>...</td>\n",
              "      <td>...</td>\n",
              "      <td>...</td>\n",
              "      <td>...</td>\n",
              "      <td>...</td>\n",
              "      <td>...</td>\n",
              "      <td>...</td>\n",
              "      <td>...</td>\n",
              "      <td>...</td>\n",
              "      <td>...</td>\n",
              "      <td>...</td>\n",
              "      <td>...</td>\n",
              "      <td>...</td>\n",
              "      <td>...</td>\n",
              "      <td>...</td>\n",
              "      <td>...</td>\n",
              "      <td>...</td>\n",
              "      <td>...</td>\n",
              "    </tr>\n",
              "    <tr>\n",
              "      <th>20216095</th>\n",
              "      <td>NaN</td>\n",
              "      <td>NaN</td>\n",
              "      <td>NaN</td>\n",
              "      <td>NaN</td>\n",
              "      <td>NaN</td>\n",
              "      <td>NaN</td>\n",
              "      <td>1444</td>\n",
              "      <td>0</td>\n",
              "      <td>2016-12-31 23:00:00</td>\n",
              "      <td>8.750</td>\n",
              "      <td>NaN</td>\n",
              "      <td>NaN</td>\n",
              "      <td>NaN</td>\n",
              "      <td>NaN</td>\n",
              "      <td>NaN</td>\n",
              "      <td>NaN</td>\n",
              "      <td>NaN</td>\n",
              "      <td>NaN</td>\n",
              "      <td>NaN</td>\n",
              "    </tr>\n",
              "    <tr>\n",
              "      <th>20216096</th>\n",
              "      <td>NaN</td>\n",
              "      <td>NaN</td>\n",
              "      <td>NaN</td>\n",
              "      <td>NaN</td>\n",
              "      <td>NaN</td>\n",
              "      <td>NaN</td>\n",
              "      <td>1445</td>\n",
              "      <td>0</td>\n",
              "      <td>2016-12-31 23:00:00</td>\n",
              "      <td>4.825</td>\n",
              "      <td>NaN</td>\n",
              "      <td>NaN</td>\n",
              "      <td>NaN</td>\n",
              "      <td>NaN</td>\n",
              "      <td>NaN</td>\n",
              "      <td>NaN</td>\n",
              "      <td>NaN</td>\n",
              "      <td>NaN</td>\n",
              "      <td>NaN</td>\n",
              "    </tr>\n",
              "    <tr>\n",
              "      <th>20216097</th>\n",
              "      <td>NaN</td>\n",
              "      <td>NaN</td>\n",
              "      <td>NaN</td>\n",
              "      <td>NaN</td>\n",
              "      <td>NaN</td>\n",
              "      <td>NaN</td>\n",
              "      <td>1446</td>\n",
              "      <td>0</td>\n",
              "      <td>2016-12-31 23:00:00</td>\n",
              "      <td>0.000</td>\n",
              "      <td>NaN</td>\n",
              "      <td>NaN</td>\n",
              "      <td>NaN</td>\n",
              "      <td>NaN</td>\n",
              "      <td>NaN</td>\n",
              "      <td>NaN</td>\n",
              "      <td>NaN</td>\n",
              "      <td>NaN</td>\n",
              "      <td>NaN</td>\n",
              "    </tr>\n",
              "    <tr>\n",
              "      <th>20216098</th>\n",
              "      <td>NaN</td>\n",
              "      <td>NaN</td>\n",
              "      <td>NaN</td>\n",
              "      <td>NaN</td>\n",
              "      <td>NaN</td>\n",
              "      <td>NaN</td>\n",
              "      <td>1447</td>\n",
              "      <td>0</td>\n",
              "      <td>2016-12-31 23:00:00</td>\n",
              "      <td>159.575</td>\n",
              "      <td>NaN</td>\n",
              "      <td>NaN</td>\n",
              "      <td>NaN</td>\n",
              "      <td>NaN</td>\n",
              "      <td>NaN</td>\n",
              "      <td>NaN</td>\n",
              "      <td>NaN</td>\n",
              "      <td>NaN</td>\n",
              "      <td>NaN</td>\n",
              "    </tr>\n",
              "    <tr>\n",
              "      <th>20216099</th>\n",
              "      <td>NaN</td>\n",
              "      <td>NaN</td>\n",
              "      <td>NaN</td>\n",
              "      <td>NaN</td>\n",
              "      <td>NaN</td>\n",
              "      <td>NaN</td>\n",
              "      <td>1448</td>\n",
              "      <td>0</td>\n",
              "      <td>2016-12-31 23:00:00</td>\n",
              "      <td>2.850</td>\n",
              "      <td>NaN</td>\n",
              "      <td>NaN</td>\n",
              "      <td>NaN</td>\n",
              "      <td>NaN</td>\n",
              "      <td>NaN</td>\n",
              "      <td>NaN</td>\n",
              "      <td>NaN</td>\n",
              "      <td>NaN</td>\n",
              "      <td>NaN</td>\n",
              "    </tr>\n",
              "  </tbody>\n",
              "</table>\n",
              "<p>20216100 rows × 19 columns</p>\n",
              "</div>"
            ],
            "text/plain": [
              "          site_id  building_id  ... wind_direction  wind_speed\n",
              "0             0.0          0.0  ...            0.0         0.0\n",
              "1             0.0          1.0  ...           70.0         1.5\n",
              "2             0.0          2.0  ...            0.0         0.0\n",
              "3             0.0          3.0  ...            0.0         0.0\n",
              "4             0.0          4.0  ...          250.0         2.6\n",
              "...           ...          ...  ...            ...         ...\n",
              "20216095      NaN          NaN  ...            NaN         NaN\n",
              "20216096      NaN          NaN  ...            NaN         NaN\n",
              "20216097      NaN          NaN  ...            NaN         NaN\n",
              "20216098      NaN          NaN  ...            NaN         NaN\n",
              "20216099      NaN          NaN  ...            NaN         NaN\n",
              "\n",
              "[20216100 rows x 19 columns]"
            ]
          },
          "execution_count": 8,
          "metadata": {},
          "output_type": "execute_result"
        }
      ],
      "source": [
        "join = pd.concat([gd, en, cu], axis = 1)\n",
        "join"
      ]
    },
    {
      "cell_type": "markdown",
      "metadata": {
        "id": "hl75oQPlDq12"
      },
      "source": [
        "Catatan: untuk code join ini hanya untuk menggabungkan 3 data menjadi 1 tabel. Akan tetapi untuk variable names data yang sama tidak masuk menjadi satu juga. Melainkan menjadi ada dua variable names di dalam tabel tersebut."
      ]
    },
    {
      "cell_type": "markdown",
      "metadata": {
        "id": "Z8NJ9t9CFPge"
      },
      "source": [
        "## Kita ingin mengetahui jumlah baris, kolom, dan tipe variabel dari data join."
      ]
    },
    {
      "cell_type": "code",
      "execution_count": null,
      "metadata": {
        "colab": {
          "base_uri": "https://localhost:8080/",
          "height": 813
        },
        "id": "YatKoszRAgT7",
        "outputId": "13a8fae0-9a8a-4e95-fd0d-6b7f00be19fd"
      },
      "outputs": [
        {
          "name": "stdout",
          "output_type": "stream",
          "text": [
            "baris =  20216100 , Kolom (jumlah variabel) =  19\n",
            "Tipe Variabel df =  <class 'pandas.core.frame.DataFrame'>\n"
          ]
        },
        {
          "data": {
            "text/html": [
              "<div>\n",
              "<style scoped>\n",
              "    .dataframe tbody tr th:only-of-type {\n",
              "        vertical-align: middle;\n",
              "    }\n",
              "\n",
              "    .dataframe tbody tr th {\n",
              "        vertical-align: top;\n",
              "    }\n",
              "\n",
              "    .dataframe thead th {\n",
              "        text-align: right;\n",
              "    }\n",
              "</style>\n",
              "<table border=\"1\" class=\"dataframe\">\n",
              "  <thead>\n",
              "    <tr style=\"text-align: right;\">\n",
              "      <th></th>\n",
              "      <th>site_id</th>\n",
              "      <th>building_id</th>\n",
              "      <th>primary_use</th>\n",
              "      <th>square_feet</th>\n",
              "      <th>year_built</th>\n",
              "      <th>floor_count</th>\n",
              "      <th>building_id</th>\n",
              "      <th>meter</th>\n",
              "      <th>timestamp</th>\n",
              "      <th>meter_reading</th>\n",
              "      <th>site_id</th>\n",
              "      <th>timestamp</th>\n",
              "      <th>air_temperature</th>\n",
              "      <th>cloud_coverage</th>\n",
              "      <th>dew_temperature</th>\n",
              "      <th>precip_depth_1_hr</th>\n",
              "      <th>sea_level_pressure</th>\n",
              "      <th>wind_direction</th>\n",
              "      <th>wind_speed</th>\n",
              "    </tr>\n",
              "  </thead>\n",
              "  <tbody>\n",
              "    <tr>\n",
              "      <th>0</th>\n",
              "      <td>0.0</td>\n",
              "      <td>0.0</td>\n",
              "      <td>Education</td>\n",
              "      <td>7432.0</td>\n",
              "      <td>2008.0</td>\n",
              "      <td>NaN</td>\n",
              "      <td>0</td>\n",
              "      <td>0</td>\n",
              "      <td>2016-01-01 00:00:00</td>\n",
              "      <td>0.000</td>\n",
              "      <td>0.0</td>\n",
              "      <td>2016-01-01 00:00:00</td>\n",
              "      <td>25.0</td>\n",
              "      <td>6.0</td>\n",
              "      <td>20.0</td>\n",
              "      <td>NaN</td>\n",
              "      <td>1019.7</td>\n",
              "      <td>0.0</td>\n",
              "      <td>0.0</td>\n",
              "    </tr>\n",
              "    <tr>\n",
              "      <th>1</th>\n",
              "      <td>0.0</td>\n",
              "      <td>1.0</td>\n",
              "      <td>Education</td>\n",
              "      <td>2720.0</td>\n",
              "      <td>2004.0</td>\n",
              "      <td>NaN</td>\n",
              "      <td>1</td>\n",
              "      <td>0</td>\n",
              "      <td>2016-01-01 00:00:00</td>\n",
              "      <td>0.000</td>\n",
              "      <td>0.0</td>\n",
              "      <td>2016-01-01 01:00:00</td>\n",
              "      <td>24.4</td>\n",
              "      <td>NaN</td>\n",
              "      <td>21.1</td>\n",
              "      <td>-1.0</td>\n",
              "      <td>1020.2</td>\n",
              "      <td>70.0</td>\n",
              "      <td>1.5</td>\n",
              "    </tr>\n",
              "    <tr>\n",
              "      <th>2</th>\n",
              "      <td>0.0</td>\n",
              "      <td>2.0</td>\n",
              "      <td>Education</td>\n",
              "      <td>5376.0</td>\n",
              "      <td>1991.0</td>\n",
              "      <td>NaN</td>\n",
              "      <td>2</td>\n",
              "      <td>0</td>\n",
              "      <td>2016-01-01 00:00:00</td>\n",
              "      <td>0.000</td>\n",
              "      <td>0.0</td>\n",
              "      <td>2016-01-01 02:00:00</td>\n",
              "      <td>22.8</td>\n",
              "      <td>2.0</td>\n",
              "      <td>21.1</td>\n",
              "      <td>0.0</td>\n",
              "      <td>1020.2</td>\n",
              "      <td>0.0</td>\n",
              "      <td>0.0</td>\n",
              "    </tr>\n",
              "    <tr>\n",
              "      <th>3</th>\n",
              "      <td>0.0</td>\n",
              "      <td>3.0</td>\n",
              "      <td>Education</td>\n",
              "      <td>23685.0</td>\n",
              "      <td>2002.0</td>\n",
              "      <td>NaN</td>\n",
              "      <td>3</td>\n",
              "      <td>0</td>\n",
              "      <td>2016-01-01 00:00:00</td>\n",
              "      <td>0.000</td>\n",
              "      <td>0.0</td>\n",
              "      <td>2016-01-01 03:00:00</td>\n",
              "      <td>21.1</td>\n",
              "      <td>2.0</td>\n",
              "      <td>20.6</td>\n",
              "      <td>0.0</td>\n",
              "      <td>1020.1</td>\n",
              "      <td>0.0</td>\n",
              "      <td>0.0</td>\n",
              "    </tr>\n",
              "    <tr>\n",
              "      <th>4</th>\n",
              "      <td>0.0</td>\n",
              "      <td>4.0</td>\n",
              "      <td>Education</td>\n",
              "      <td>116607.0</td>\n",
              "      <td>1975.0</td>\n",
              "      <td>NaN</td>\n",
              "      <td>4</td>\n",
              "      <td>0</td>\n",
              "      <td>2016-01-01 00:00:00</td>\n",
              "      <td>0.000</td>\n",
              "      <td>0.0</td>\n",
              "      <td>2016-01-01 04:00:00</td>\n",
              "      <td>20.0</td>\n",
              "      <td>2.0</td>\n",
              "      <td>20.0</td>\n",
              "      <td>-1.0</td>\n",
              "      <td>1020.0</td>\n",
              "      <td>250.0</td>\n",
              "      <td>2.6</td>\n",
              "    </tr>\n",
              "    <tr>\n",
              "      <th>...</th>\n",
              "      <td>...</td>\n",
              "      <td>...</td>\n",
              "      <td>...</td>\n",
              "      <td>...</td>\n",
              "      <td>...</td>\n",
              "      <td>...</td>\n",
              "      <td>...</td>\n",
              "      <td>...</td>\n",
              "      <td>...</td>\n",
              "      <td>...</td>\n",
              "      <td>...</td>\n",
              "      <td>...</td>\n",
              "      <td>...</td>\n",
              "      <td>...</td>\n",
              "      <td>...</td>\n",
              "      <td>...</td>\n",
              "      <td>...</td>\n",
              "      <td>...</td>\n",
              "      <td>...</td>\n",
              "    </tr>\n",
              "    <tr>\n",
              "      <th>20216095</th>\n",
              "      <td>NaN</td>\n",
              "      <td>NaN</td>\n",
              "      <td>NaN</td>\n",
              "      <td>NaN</td>\n",
              "      <td>NaN</td>\n",
              "      <td>NaN</td>\n",
              "      <td>1444</td>\n",
              "      <td>0</td>\n",
              "      <td>2016-12-31 23:00:00</td>\n",
              "      <td>8.750</td>\n",
              "      <td>NaN</td>\n",
              "      <td>NaN</td>\n",
              "      <td>NaN</td>\n",
              "      <td>NaN</td>\n",
              "      <td>NaN</td>\n",
              "      <td>NaN</td>\n",
              "      <td>NaN</td>\n",
              "      <td>NaN</td>\n",
              "      <td>NaN</td>\n",
              "    </tr>\n",
              "    <tr>\n",
              "      <th>20216096</th>\n",
              "      <td>NaN</td>\n",
              "      <td>NaN</td>\n",
              "      <td>NaN</td>\n",
              "      <td>NaN</td>\n",
              "      <td>NaN</td>\n",
              "      <td>NaN</td>\n",
              "      <td>1445</td>\n",
              "      <td>0</td>\n",
              "      <td>2016-12-31 23:00:00</td>\n",
              "      <td>4.825</td>\n",
              "      <td>NaN</td>\n",
              "      <td>NaN</td>\n",
              "      <td>NaN</td>\n",
              "      <td>NaN</td>\n",
              "      <td>NaN</td>\n",
              "      <td>NaN</td>\n",
              "      <td>NaN</td>\n",
              "      <td>NaN</td>\n",
              "      <td>NaN</td>\n",
              "    </tr>\n",
              "    <tr>\n",
              "      <th>20216097</th>\n",
              "      <td>NaN</td>\n",
              "      <td>NaN</td>\n",
              "      <td>NaN</td>\n",
              "      <td>NaN</td>\n",
              "      <td>NaN</td>\n",
              "      <td>NaN</td>\n",
              "      <td>1446</td>\n",
              "      <td>0</td>\n",
              "      <td>2016-12-31 23:00:00</td>\n",
              "      <td>0.000</td>\n",
              "      <td>NaN</td>\n",
              "      <td>NaN</td>\n",
              "      <td>NaN</td>\n",
              "      <td>NaN</td>\n",
              "      <td>NaN</td>\n",
              "      <td>NaN</td>\n",
              "      <td>NaN</td>\n",
              "      <td>NaN</td>\n",
              "      <td>NaN</td>\n",
              "    </tr>\n",
              "    <tr>\n",
              "      <th>20216098</th>\n",
              "      <td>NaN</td>\n",
              "      <td>NaN</td>\n",
              "      <td>NaN</td>\n",
              "      <td>NaN</td>\n",
              "      <td>NaN</td>\n",
              "      <td>NaN</td>\n",
              "      <td>1447</td>\n",
              "      <td>0</td>\n",
              "      <td>2016-12-31 23:00:00</td>\n",
              "      <td>159.575</td>\n",
              "      <td>NaN</td>\n",
              "      <td>NaN</td>\n",
              "      <td>NaN</td>\n",
              "      <td>NaN</td>\n",
              "      <td>NaN</td>\n",
              "      <td>NaN</td>\n",
              "      <td>NaN</td>\n",
              "      <td>NaN</td>\n",
              "      <td>NaN</td>\n",
              "    </tr>\n",
              "    <tr>\n",
              "      <th>20216099</th>\n",
              "      <td>NaN</td>\n",
              "      <td>NaN</td>\n",
              "      <td>NaN</td>\n",
              "      <td>NaN</td>\n",
              "      <td>NaN</td>\n",
              "      <td>NaN</td>\n",
              "      <td>1448</td>\n",
              "      <td>0</td>\n",
              "      <td>2016-12-31 23:00:00</td>\n",
              "      <td>2.850</td>\n",
              "      <td>NaN</td>\n",
              "      <td>NaN</td>\n",
              "      <td>NaN</td>\n",
              "      <td>NaN</td>\n",
              "      <td>NaN</td>\n",
              "      <td>NaN</td>\n",
              "      <td>NaN</td>\n",
              "      <td>NaN</td>\n",
              "      <td>NaN</td>\n",
              "    </tr>\n",
              "  </tbody>\n",
              "</table>\n",
              "<p>20216100 rows × 19 columns</p>\n",
              "</div>"
            ],
            "text/plain": [
              "          site_id  building_id  ... wind_direction  wind_speed\n",
              "0             0.0          0.0  ...            0.0         0.0\n",
              "1             0.0          1.0  ...           70.0         1.5\n",
              "2             0.0          2.0  ...            0.0         0.0\n",
              "3             0.0          3.0  ...            0.0         0.0\n",
              "4             0.0          4.0  ...          250.0         2.6\n",
              "...           ...          ...  ...            ...         ...\n",
              "20216095      NaN          NaN  ...            NaN         NaN\n",
              "20216096      NaN          NaN  ...            NaN         NaN\n",
              "20216097      NaN          NaN  ...            NaN         NaN\n",
              "20216098      NaN          NaN  ...            NaN         NaN\n",
              "20216099      NaN          NaN  ...            NaN         NaN\n",
              "\n",
              "[20216100 rows x 19 columns]"
            ]
          },
          "execution_count": 9,
          "metadata": {},
          "output_type": "execute_result"
        }
      ],
      "source": [
        "N, P = join.shape\n",
        "print('baris = ', N, ', Kolom (jumlah variabel) = ', P)\n",
        "print(\"Tipe Variabel df = \", type(join))\n",
        "join"
      ]
    },
    {
      "cell_type": "markdown",
      "metadata": {
        "id": "RwvUyNLpAjWw"
      },
      "source": [
        "Diketahui bahwa jumlah baris adalah 20216100, jumlah kolom adalah 19, dan tipe variabelnya adalah Data Frame."
      ]
    },
    {
      "cell_type": "markdown",
      "metadata": {
        "id": "YzwnSo5N-cai"
      },
      "source": [
        "# **Preprocessing Data**"
      ]
    },
    {
      "cell_type": "markdown",
      "metadata": {
        "id": "Tdq0a1uT-mRS"
      },
      "source": [
        "* Kami ingin mengetahui variabel apa saja yang ada di dalam Data yang sudah dijoin"
      ]
    },
    {
      "cell_type": "code",
      "execution_count": null,
      "metadata": {
        "colab": {
          "base_uri": "https://localhost:8080/"
        },
        "id": "bvtfpVY59ypE",
        "outputId": "c371ee92-022f-4ebe-da0c-d968d68684a1"
      },
      "outputs": [
        {
          "data": {
            "text/plain": [
              "Index(['site_id', 'building_id', 'primary_use', 'square_feet', 'year_built',\n",
              "       'floor_count', 'building_id', 'meter', 'timestamp', 'meter_reading',\n",
              "       'site_id', 'timestamp', 'air_temperature', 'cloud_coverage',\n",
              "       'dew_temperature', 'precip_depth_1_hr', 'sea_level_pressure',\n",
              "       'wind_direction', 'wind_speed'],\n",
              "      dtype='object')"
            ]
          },
          "execution_count": 10,
          "metadata": {},
          "output_type": "execute_result"
        }
      ],
      "source": [
        "join.columns"
      ]
    },
    {
      "cell_type": "markdown",
      "metadata": {
        "id": "Xo5vnpyV_E2P"
      },
      "source": [
        "Diketahui variabel dalam Data join, yaitu site_id, primary_use, square_feet, year_built, floor_count, meter, timestamp, meter_reading, site_id, timestamp, air_temperature, cloud_coverage, dew_temperature, precip_depth_1_hr, sea_level_pressure, wind_direction, wind_speed."
      ]
    },
    {
      "cell_type": "markdown",
      "metadata": {
        "id": "RMjxtmaKBosh"
      },
      "source": [
        "* Kami akan menghilangkan beberapa kolom yang hanya berisi index dan NaN"
      ]
    },
    {
      "cell_type": "code",
      "execution_count": null,
      "metadata": {
        "id": "gUqqksd7dztT"
      },
      "outputs": [],
      "source": [
        "join.drop(\"building_id\", axis=1, inplace=True)\n",
        "\n",
        "# Drop kolom building_id karena hanya index\n",
        "# drop untuk menghapus data yang tidak berguna\n",
        "# inplace=True untuk tidak menambahkan data baru"
      ]
    },
    {
      "cell_type": "markdown",
      "metadata": {
        "id": "0AezPSC34vxe"
      },
      "source": [
        "Pada join.drop kita akan menghilangkan kolom building_id."
      ]
    },
    {
      "cell_type": "code",
      "execution_count": null,
      "metadata": {
        "colab": {
          "base_uri": "https://localhost:8080/",
          "height": 779
        },
        "id": "HyfUe3i34_0c",
        "outputId": "f7823daf-1866-40be-c270-d125c9ffaa68"
      },
      "outputs": [
        {
          "data": {
            "text/html": [
              "<div>\n",
              "<style scoped>\n",
              "    .dataframe tbody tr th:only-of-type {\n",
              "        vertical-align: middle;\n",
              "    }\n",
              "\n",
              "    .dataframe tbody tr th {\n",
              "        vertical-align: top;\n",
              "    }\n",
              "\n",
              "    .dataframe thead th {\n",
              "        text-align: right;\n",
              "    }\n",
              "</style>\n",
              "<table border=\"1\" class=\"dataframe\">\n",
              "  <thead>\n",
              "    <tr style=\"text-align: right;\">\n",
              "      <th></th>\n",
              "      <th>site_id</th>\n",
              "      <th>primary_use</th>\n",
              "      <th>square_feet</th>\n",
              "      <th>year_built</th>\n",
              "      <th>floor_count</th>\n",
              "      <th>meter</th>\n",
              "      <th>timestamp</th>\n",
              "      <th>meter_reading</th>\n",
              "      <th>site_id</th>\n",
              "      <th>timestamp</th>\n",
              "      <th>air_temperature</th>\n",
              "      <th>cloud_coverage</th>\n",
              "      <th>dew_temperature</th>\n",
              "      <th>precip_depth_1_hr</th>\n",
              "      <th>sea_level_pressure</th>\n",
              "      <th>wind_direction</th>\n",
              "      <th>wind_speed</th>\n",
              "    </tr>\n",
              "  </thead>\n",
              "  <tbody>\n",
              "    <tr>\n",
              "      <th>0</th>\n",
              "      <td>0.0</td>\n",
              "      <td>Education</td>\n",
              "      <td>7432.0</td>\n",
              "      <td>2008.0</td>\n",
              "      <td>NaN</td>\n",
              "      <td>0</td>\n",
              "      <td>2016-01-01 00:00:00</td>\n",
              "      <td>0.000</td>\n",
              "      <td>0.0</td>\n",
              "      <td>2016-01-01 00:00:00</td>\n",
              "      <td>25.0</td>\n",
              "      <td>6.0</td>\n",
              "      <td>20.0</td>\n",
              "      <td>NaN</td>\n",
              "      <td>1019.7</td>\n",
              "      <td>0.0</td>\n",
              "      <td>0.0</td>\n",
              "    </tr>\n",
              "    <tr>\n",
              "      <th>1</th>\n",
              "      <td>0.0</td>\n",
              "      <td>Education</td>\n",
              "      <td>2720.0</td>\n",
              "      <td>2004.0</td>\n",
              "      <td>NaN</td>\n",
              "      <td>0</td>\n",
              "      <td>2016-01-01 00:00:00</td>\n",
              "      <td>0.000</td>\n",
              "      <td>0.0</td>\n",
              "      <td>2016-01-01 01:00:00</td>\n",
              "      <td>24.4</td>\n",
              "      <td>NaN</td>\n",
              "      <td>21.1</td>\n",
              "      <td>-1.0</td>\n",
              "      <td>1020.2</td>\n",
              "      <td>70.0</td>\n",
              "      <td>1.5</td>\n",
              "    </tr>\n",
              "    <tr>\n",
              "      <th>2</th>\n",
              "      <td>0.0</td>\n",
              "      <td>Education</td>\n",
              "      <td>5376.0</td>\n",
              "      <td>1991.0</td>\n",
              "      <td>NaN</td>\n",
              "      <td>0</td>\n",
              "      <td>2016-01-01 00:00:00</td>\n",
              "      <td>0.000</td>\n",
              "      <td>0.0</td>\n",
              "      <td>2016-01-01 02:00:00</td>\n",
              "      <td>22.8</td>\n",
              "      <td>2.0</td>\n",
              "      <td>21.1</td>\n",
              "      <td>0.0</td>\n",
              "      <td>1020.2</td>\n",
              "      <td>0.0</td>\n",
              "      <td>0.0</td>\n",
              "    </tr>\n",
              "    <tr>\n",
              "      <th>3</th>\n",
              "      <td>0.0</td>\n",
              "      <td>Education</td>\n",
              "      <td>23685.0</td>\n",
              "      <td>2002.0</td>\n",
              "      <td>NaN</td>\n",
              "      <td>0</td>\n",
              "      <td>2016-01-01 00:00:00</td>\n",
              "      <td>0.000</td>\n",
              "      <td>0.0</td>\n",
              "      <td>2016-01-01 03:00:00</td>\n",
              "      <td>21.1</td>\n",
              "      <td>2.0</td>\n",
              "      <td>20.6</td>\n",
              "      <td>0.0</td>\n",
              "      <td>1020.1</td>\n",
              "      <td>0.0</td>\n",
              "      <td>0.0</td>\n",
              "    </tr>\n",
              "    <tr>\n",
              "      <th>4</th>\n",
              "      <td>0.0</td>\n",
              "      <td>Education</td>\n",
              "      <td>116607.0</td>\n",
              "      <td>1975.0</td>\n",
              "      <td>NaN</td>\n",
              "      <td>0</td>\n",
              "      <td>2016-01-01 00:00:00</td>\n",
              "      <td>0.000</td>\n",
              "      <td>0.0</td>\n",
              "      <td>2016-01-01 04:00:00</td>\n",
              "      <td>20.0</td>\n",
              "      <td>2.0</td>\n",
              "      <td>20.0</td>\n",
              "      <td>-1.0</td>\n",
              "      <td>1020.0</td>\n",
              "      <td>250.0</td>\n",
              "      <td>2.6</td>\n",
              "    </tr>\n",
              "    <tr>\n",
              "      <th>...</th>\n",
              "      <td>...</td>\n",
              "      <td>...</td>\n",
              "      <td>...</td>\n",
              "      <td>...</td>\n",
              "      <td>...</td>\n",
              "      <td>...</td>\n",
              "      <td>...</td>\n",
              "      <td>...</td>\n",
              "      <td>...</td>\n",
              "      <td>...</td>\n",
              "      <td>...</td>\n",
              "      <td>...</td>\n",
              "      <td>...</td>\n",
              "      <td>...</td>\n",
              "      <td>...</td>\n",
              "      <td>...</td>\n",
              "      <td>...</td>\n",
              "    </tr>\n",
              "    <tr>\n",
              "      <th>20216095</th>\n",
              "      <td>NaN</td>\n",
              "      <td>NaN</td>\n",
              "      <td>NaN</td>\n",
              "      <td>NaN</td>\n",
              "      <td>NaN</td>\n",
              "      <td>0</td>\n",
              "      <td>2016-12-31 23:00:00</td>\n",
              "      <td>8.750</td>\n",
              "      <td>NaN</td>\n",
              "      <td>NaN</td>\n",
              "      <td>NaN</td>\n",
              "      <td>NaN</td>\n",
              "      <td>NaN</td>\n",
              "      <td>NaN</td>\n",
              "      <td>NaN</td>\n",
              "      <td>NaN</td>\n",
              "      <td>NaN</td>\n",
              "    </tr>\n",
              "    <tr>\n",
              "      <th>20216096</th>\n",
              "      <td>NaN</td>\n",
              "      <td>NaN</td>\n",
              "      <td>NaN</td>\n",
              "      <td>NaN</td>\n",
              "      <td>NaN</td>\n",
              "      <td>0</td>\n",
              "      <td>2016-12-31 23:00:00</td>\n",
              "      <td>4.825</td>\n",
              "      <td>NaN</td>\n",
              "      <td>NaN</td>\n",
              "      <td>NaN</td>\n",
              "      <td>NaN</td>\n",
              "      <td>NaN</td>\n",
              "      <td>NaN</td>\n",
              "      <td>NaN</td>\n",
              "      <td>NaN</td>\n",
              "      <td>NaN</td>\n",
              "    </tr>\n",
              "    <tr>\n",
              "      <th>20216097</th>\n",
              "      <td>NaN</td>\n",
              "      <td>NaN</td>\n",
              "      <td>NaN</td>\n",
              "      <td>NaN</td>\n",
              "      <td>NaN</td>\n",
              "      <td>0</td>\n",
              "      <td>2016-12-31 23:00:00</td>\n",
              "      <td>0.000</td>\n",
              "      <td>NaN</td>\n",
              "      <td>NaN</td>\n",
              "      <td>NaN</td>\n",
              "      <td>NaN</td>\n",
              "      <td>NaN</td>\n",
              "      <td>NaN</td>\n",
              "      <td>NaN</td>\n",
              "      <td>NaN</td>\n",
              "      <td>NaN</td>\n",
              "    </tr>\n",
              "    <tr>\n",
              "      <th>20216098</th>\n",
              "      <td>NaN</td>\n",
              "      <td>NaN</td>\n",
              "      <td>NaN</td>\n",
              "      <td>NaN</td>\n",
              "      <td>NaN</td>\n",
              "      <td>0</td>\n",
              "      <td>2016-12-31 23:00:00</td>\n",
              "      <td>159.575</td>\n",
              "      <td>NaN</td>\n",
              "      <td>NaN</td>\n",
              "      <td>NaN</td>\n",
              "      <td>NaN</td>\n",
              "      <td>NaN</td>\n",
              "      <td>NaN</td>\n",
              "      <td>NaN</td>\n",
              "      <td>NaN</td>\n",
              "      <td>NaN</td>\n",
              "    </tr>\n",
              "    <tr>\n",
              "      <th>20216099</th>\n",
              "      <td>NaN</td>\n",
              "      <td>NaN</td>\n",
              "      <td>NaN</td>\n",
              "      <td>NaN</td>\n",
              "      <td>NaN</td>\n",
              "      <td>0</td>\n",
              "      <td>2016-12-31 23:00:00</td>\n",
              "      <td>2.850</td>\n",
              "      <td>NaN</td>\n",
              "      <td>NaN</td>\n",
              "      <td>NaN</td>\n",
              "      <td>NaN</td>\n",
              "      <td>NaN</td>\n",
              "      <td>NaN</td>\n",
              "      <td>NaN</td>\n",
              "      <td>NaN</td>\n",
              "      <td>NaN</td>\n",
              "    </tr>\n",
              "  </tbody>\n",
              "</table>\n",
              "<p>20216100 rows × 17 columns</p>\n",
              "</div>"
            ],
            "text/plain": [
              "          site_id primary_use  ...  wind_direction  wind_speed\n",
              "0             0.0   Education  ...             0.0         0.0\n",
              "1             0.0   Education  ...            70.0         1.5\n",
              "2             0.0   Education  ...             0.0         0.0\n",
              "3             0.0   Education  ...             0.0         0.0\n",
              "4             0.0   Education  ...           250.0         2.6\n",
              "...           ...         ...  ...             ...         ...\n",
              "20216095      NaN         NaN  ...             NaN         NaN\n",
              "20216096      NaN         NaN  ...             NaN         NaN\n",
              "20216097      NaN         NaN  ...             NaN         NaN\n",
              "20216098      NaN         NaN  ...             NaN         NaN\n",
              "20216099      NaN         NaN  ...             NaN         NaN\n",
              "\n",
              "[20216100 rows x 17 columns]"
            ]
          },
          "execution_count": 12,
          "metadata": {},
          "output_type": "execute_result"
        }
      ],
      "source": [
        "join"
      ]
    },
    {
      "cell_type": "markdown",
      "metadata": {
        "id": "j_TMUzjZ5A91"
      },
      "source": [
        "Maka, pada output terbaru. pada kolom building_id sudah tidak ada di output tersebut."
      ]
    },
    {
      "cell_type": "code",
      "execution_count": null,
      "metadata": {
        "colab": {
          "base_uri": "https://localhost:8080/",
          "height": 779
        },
        "id": "_uoSf4YDdzw5",
        "outputId": "f38df1eb-d001-4d09-ee33-3dbd74de3aff"
      },
      "outputs": [
        {
          "data": {
            "text/html": [
              "<div>\n",
              "<style scoped>\n",
              "    .dataframe tbody tr th:only-of-type {\n",
              "        vertical-align: middle;\n",
              "    }\n",
              "\n",
              "    .dataframe tbody tr th {\n",
              "        vertical-align: top;\n",
              "    }\n",
              "\n",
              "    .dataframe thead th {\n",
              "        text-align: right;\n",
              "    }\n",
              "</style>\n",
              "<table border=\"1\" class=\"dataframe\">\n",
              "  <thead>\n",
              "    <tr style=\"text-align: right;\">\n",
              "      <th></th>\n",
              "      <th>site_id</th>\n",
              "      <th>primary_use</th>\n",
              "      <th>square_feet</th>\n",
              "      <th>year_built</th>\n",
              "      <th>floor_count</th>\n",
              "      <th>meter</th>\n",
              "      <th>timestamp</th>\n",
              "      <th>meter_reading</th>\n",
              "      <th>site_id</th>\n",
              "      <th>timestamp</th>\n",
              "      <th>air_temperature</th>\n",
              "      <th>cloud_coverage</th>\n",
              "      <th>dew_temperature</th>\n",
              "      <th>precip_depth_1_hr</th>\n",
              "      <th>sea_level_pressure</th>\n",
              "      <th>wind_direction</th>\n",
              "      <th>wind_speed</th>\n",
              "    </tr>\n",
              "  </thead>\n",
              "  <tbody>\n",
              "    <tr>\n",
              "      <th>107</th>\n",
              "      <td>1.0</td>\n",
              "      <td>Education</td>\n",
              "      <td>97532.0</td>\n",
              "      <td>2005.0</td>\n",
              "      <td>10.0</td>\n",
              "      <td>0</td>\n",
              "      <td>2016-01-01 00:00:00</td>\n",
              "      <td>91.2653</td>\n",
              "      <td>0.0</td>\n",
              "      <td>2016-01-05 11:00:00</td>\n",
              "      <td>11.1</td>\n",
              "      <td>0.0</td>\n",
              "      <td>6.7</td>\n",
              "      <td>0.0</td>\n",
              "      <td>1022.5</td>\n",
              "      <td>10.0</td>\n",
              "      <td>5.1</td>\n",
              "    </tr>\n",
              "    <tr>\n",
              "      <th>108</th>\n",
              "      <td>1.0</td>\n",
              "      <td>Education</td>\n",
              "      <td>81580.0</td>\n",
              "      <td>1913.0</td>\n",
              "      <td>5.0</td>\n",
              "      <td>0</td>\n",
              "      <td>2016-01-01 00:00:00</td>\n",
              "      <td>80.9300</td>\n",
              "      <td>0.0</td>\n",
              "      <td>2016-01-05 12:00:00</td>\n",
              "      <td>11.7</td>\n",
              "      <td>2.0</td>\n",
              "      <td>7.8</td>\n",
              "      <td>0.0</td>\n",
              "      <td>1023.1</td>\n",
              "      <td>20.0</td>\n",
              "      <td>7.2</td>\n",
              "    </tr>\n",
              "    <tr>\n",
              "      <th>109</th>\n",
              "      <td>1.0</td>\n",
              "      <td>Education</td>\n",
              "      <td>56995.0</td>\n",
              "      <td>1953.0</td>\n",
              "      <td>6.0</td>\n",
              "      <td>3</td>\n",
              "      <td>2016-01-01 00:00:00</td>\n",
              "      <td>0.0000</td>\n",
              "      <td>0.0</td>\n",
              "      <td>2016-01-05 13:00:00</td>\n",
              "      <td>12.2</td>\n",
              "      <td>4.0</td>\n",
              "      <td>7.8</td>\n",
              "      <td>0.0</td>\n",
              "      <td>1023.7</td>\n",
              "      <td>10.0</td>\n",
              "      <td>6.7</td>\n",
              "    </tr>\n",
              "    <tr>\n",
              "      <th>110</th>\n",
              "      <td>1.0</td>\n",
              "      <td>Education</td>\n",
              "      <td>27814.0</td>\n",
              "      <td>2006.0</td>\n",
              "      <td>8.0</td>\n",
              "      <td>0</td>\n",
              "      <td>2016-01-01 00:00:00</td>\n",
              "      <td>86.2283</td>\n",
              "      <td>0.0</td>\n",
              "      <td>2016-01-05 14:00:00</td>\n",
              "      <td>13.9</td>\n",
              "      <td>2.0</td>\n",
              "      <td>7.8</td>\n",
              "      <td>0.0</td>\n",
              "      <td>1024.4</td>\n",
              "      <td>10.0</td>\n",
              "      <td>8.8</td>\n",
              "    </tr>\n",
              "    <tr>\n",
              "      <th>111</th>\n",
              "      <td>1.0</td>\n",
              "      <td>Education</td>\n",
              "      <td>118338.0</td>\n",
              "      <td>1909.0</td>\n",
              "      <td>7.0</td>\n",
              "      <td>0</td>\n",
              "      <td>2016-01-01 00:00:00</td>\n",
              "      <td>167.3920</td>\n",
              "      <td>0.0</td>\n",
              "      <td>2016-01-05 15:00:00</td>\n",
              "      <td>15.6</td>\n",
              "      <td>4.0</td>\n",
              "      <td>8.9</td>\n",
              "      <td>0.0</td>\n",
              "      <td>1024.7</td>\n",
              "      <td>30.0</td>\n",
              "      <td>5.7</td>\n",
              "    </tr>\n",
              "    <tr>\n",
              "      <th>...</th>\n",
              "      <td>...</td>\n",
              "      <td>...</td>\n",
              "      <td>...</td>\n",
              "      <td>...</td>\n",
              "      <td>...</td>\n",
              "      <td>...</td>\n",
              "      <td>...</td>\n",
              "      <td>...</td>\n",
              "      <td>...</td>\n",
              "      <td>...</td>\n",
              "      <td>...</td>\n",
              "      <td>...</td>\n",
              "      <td>...</td>\n",
              "      <td>...</td>\n",
              "      <td>...</td>\n",
              "      <td>...</td>\n",
              "      <td>...</td>\n",
              "    </tr>\n",
              "    <tr>\n",
              "      <th>792</th>\n",
              "      <td>7.0</td>\n",
              "      <td>Education</td>\n",
              "      <td>333681.0</td>\n",
              "      <td>1938.0</td>\n",
              "      <td>3.0</td>\n",
              "      <td>0</td>\n",
              "      <td>2016-01-01 00:00:00</td>\n",
              "      <td>61.6248</td>\n",
              "      <td>0.0</td>\n",
              "      <td>2016-02-03 00:00:00</td>\n",
              "      <td>22.8</td>\n",
              "      <td>2.0</td>\n",
              "      <td>19.4</td>\n",
              "      <td>0.0</td>\n",
              "      <td>1018.8</td>\n",
              "      <td>100.0</td>\n",
              "      <td>4.6</td>\n",
              "    </tr>\n",
              "    <tr>\n",
              "      <th>795</th>\n",
              "      <td>7.0</td>\n",
              "      <td>Education</td>\n",
              "      <td>387500.0</td>\n",
              "      <td>1960.0</td>\n",
              "      <td>6.0</td>\n",
              "      <td>0</td>\n",
              "      <td>2016-01-01 00:00:00</td>\n",
              "      <td>30.0000</td>\n",
              "      <td>0.0</td>\n",
              "      <td>2016-02-03 03:00:00</td>\n",
              "      <td>21.1</td>\n",
              "      <td>2.0</td>\n",
              "      <td>19.4</td>\n",
              "      <td>0.0</td>\n",
              "      <td>1019.5</td>\n",
              "      <td>110.0</td>\n",
              "      <td>4.1</td>\n",
              "    </tr>\n",
              "    <tr>\n",
              "      <th>796</th>\n",
              "      <td>7.0</td>\n",
              "      <td>Education</td>\n",
              "      <td>226042.0</td>\n",
              "      <td>1965.0</td>\n",
              "      <td>2.0</td>\n",
              "      <td>0</td>\n",
              "      <td>2016-01-01 00:00:00</td>\n",
              "      <td>838.8000</td>\n",
              "      <td>0.0</td>\n",
              "      <td>2016-02-03 04:00:00</td>\n",
              "      <td>21.1</td>\n",
              "      <td>0.0</td>\n",
              "      <td>19.4</td>\n",
              "      <td>0.0</td>\n",
              "      <td>1019.3</td>\n",
              "      <td>130.0</td>\n",
              "      <td>4.1</td>\n",
              "    </tr>\n",
              "    <tr>\n",
              "      <th>798</th>\n",
              "      <td>7.0</td>\n",
              "      <td>Education</td>\n",
              "      <td>409028.0</td>\n",
              "      <td>1970.0</td>\n",
              "      <td>21.0</td>\n",
              "      <td>0</td>\n",
              "      <td>2016-01-01 00:00:00</td>\n",
              "      <td>34.0000</td>\n",
              "      <td>0.0</td>\n",
              "      <td>2016-02-03 06:00:00</td>\n",
              "      <td>21.1</td>\n",
              "      <td>2.0</td>\n",
              "      <td>19.4</td>\n",
              "      <td>0.0</td>\n",
              "      <td>1017.9</td>\n",
              "      <td>110.0</td>\n",
              "      <td>5.7</td>\n",
              "    </tr>\n",
              "    <tr>\n",
              "      <th>800</th>\n",
              "      <td>7.0</td>\n",
              "      <td>Education</td>\n",
              "      <td>64583.0</td>\n",
              "      <td>1955.0</td>\n",
              "      <td>2.0</td>\n",
              "      <td>0</td>\n",
              "      <td>2016-01-01 00:00:00</td>\n",
              "      <td>73.0335</td>\n",
              "      <td>0.0</td>\n",
              "      <td>2016-02-03 08:00:00</td>\n",
              "      <td>20.6</td>\n",
              "      <td>4.0</td>\n",
              "      <td>19.4</td>\n",
              "      <td>0.0</td>\n",
              "      <td>1017.5</td>\n",
              "      <td>120.0</td>\n",
              "      <td>3.1</td>\n",
              "    </tr>\n",
              "  </tbody>\n",
              "</table>\n",
              "<p>80 rows × 17 columns</p>\n",
              "</div>"
            ],
            "text/plain": [
              "     site_id primary_use  ...  wind_direction  wind_speed\n",
              "107      1.0   Education  ...            10.0         5.1\n",
              "108      1.0   Education  ...            20.0         7.2\n",
              "109      1.0   Education  ...            10.0         6.7\n",
              "110      1.0   Education  ...            10.0         8.8\n",
              "111      1.0   Education  ...            30.0         5.7\n",
              "..       ...         ...  ...             ...         ...\n",
              "792      7.0   Education  ...           100.0         4.6\n",
              "795      7.0   Education  ...           110.0         4.1\n",
              "796      7.0   Education  ...           130.0         4.1\n",
              "798      7.0   Education  ...           110.0         5.7\n",
              "800      7.0   Education  ...           120.0         3.1\n",
              "\n",
              "[80 rows x 17 columns]"
            ]
          },
          "execution_count": 13,
          "metadata": {},
          "output_type": "execute_result"
        }
      ],
      "source": [
        "# Drop baris yang ada NaN\n",
        "join.dropna()"
      ]
    },
    {
      "cell_type": "markdown",
      "metadata": {
        "id": "r6ws6T748Xol"
      },
      "source": [
        "Dengan menggunakan dropna, maka input yang berisikan NaN akan hilang."
      ]
    },
    {
      "cell_type": "markdown",
      "metadata": {
        "id": "MoVwlBV092mJ"
      },
      "source": [
        "# **Mengoreksi Tipe Variabel Data Join**"
      ]
    },
    {
      "cell_type": "code",
      "execution_count": null,
      "metadata": {
        "colab": {
          "base_uri": "https://localhost:8080/"
        },
        "id": "EkJJtJBvcSa8",
        "outputId": "b102790f-79b7-4c73-eb11-944d6e635598"
      },
      "outputs": [
        {
          "name": "stdout",
          "output_type": "stream",
          "text": [
            "<class 'pandas.core.frame.DataFrame'>\n",
            "RangeIndex: 20216100 entries, 0 to 20216099\n",
            "Data columns (total 17 columns):\n",
            " #   Column              Dtype   \n",
            "---  ------              -----   \n",
            " 0   site_id             float64 \n",
            " 1   primary_use         category\n",
            " 2   square_feet         float64 \n",
            " 3   year_built          float64 \n",
            " 4   floor_count         float64 \n",
            " 5   meter               int64   \n",
            " 6   timestamp           object  \n",
            " 7   meter_reading       float64 \n",
            " 8   site_id             float64 \n",
            " 9   timestamp           object  \n",
            " 10  air_temperature     float64 \n",
            " 11  cloud_coverage      float64 \n",
            " 12  dew_temperature     float64 \n",
            " 13  precip_depth_1_hr   float64 \n",
            " 14  sea_level_pressure  float64 \n",
            " 15  wind_direction      float64 \n",
            " 16  wind_speed          float64 \n",
            "dtypes: category(1), float64(13), int64(1), object(2)\n",
            "memory usage: 2.4+ GB\n"
          ]
        }
      ],
      "source": [
        "# tipe data di setiap kolom\n",
        "# Wajib di periksa apakah tipe datanya sudah tepat?\n",
        "# Perhatikan df sebagaimana semua variable di Python diperlakukan seperti object\n",
        "join.info()"
      ]
    },
    {
      "cell_type": "markdown",
      "metadata": {
        "id": "9AZav1Zn-Y64"
      },
      "source": [
        "Untuk primary_use pada output Dtype seharusnya menghasilkan 'category' pada pandas.\n",
        "\n",
        "Lalu kami akan mengubah 'object' pada Dtype menjadi 'category'."
      ]
    },
    {
      "cell_type": "code",
      "execution_count": null,
      "metadata": {
        "colab": {
          "base_uri": "https://localhost:8080/"
        },
        "id": "MNWgvZEWiCq2",
        "outputId": "eedf68c9-3ebd-4920-b23d-abbde69499da"
      },
      "outputs": [
        {
          "data": {
            "text/plain": [
              "site_id                float64\n",
              "primary_use           category\n",
              "square_feet            float64\n",
              "year_built             float64\n",
              "floor_count            float64\n",
              "meter                    int64\n",
              "timestamp               object\n",
              "meter_reading          float64\n",
              "site_id                float64\n",
              "timestamp               object\n",
              "air_temperature        float64\n",
              "cloud_coverage         float64\n",
              "dew_temperature        float64\n",
              "precip_depth_1_hr      float64\n",
              "sea_level_pressure     float64\n",
              "wind_direction         float64\n",
              "wind_speed             float64\n",
              "dtype: object"
            ]
          },
          "execution_count": 44,
          "metadata": {},
          "output_type": "execute_result"
        }
      ],
      "source": [
        "join['primary_use'] = join['primary_use'].astype('category')\n",
        "join['timestamp'] = join['timestamp'].astype('category')\n",
        "join.dtypes"
      ]
    },
    {
      "cell_type": "markdown",
      "metadata": {
        "id": "uoXklfSF-1fm"
      },
      "source": [
        "Maka, output dtype primary_use berubah menjadi category, tetapi pada dtype timestamp tetap menjadi object."
      ]
    },
    {
      "cell_type": "markdown",
      "metadata": {
        "id": "Y20FXcXiirJj"
      },
      "source": [
        "# **Menghilangkan Duplikasi di Data Join**"
      ]
    },
    {
      "cell_type": "markdown",
      "metadata": {
        "id": "IW777ShA-_Zn"
      },
      "source": [
        "### Cek apakah ada duplikasi data di data join?"
      ]
    },
    {
      "cell_type": "code",
      "execution_count": null,
      "metadata": {
        "colab": {
          "base_uri": "https://localhost:8080/"
        },
        "id": "XQrHbxpPiCdM",
        "outputId": "b12bdfd7-1e4e-405f-d81a-9a662fdacfc0"
      },
      "outputs": [
        {
          "name": "stdout",
          "output_type": "stream",
          "text": [
            "(20216100, 17)\n"
          ]
        },
        {
          "data": {
            "text/plain": [
              "2966510"
            ]
          },
          "execution_count": 19,
          "metadata": {},
          "output_type": "execute_result"
        }
      ],
      "source": [
        "print(join.shape)  # 20216100 baris dan 17 kolom\n",
        "join.duplicated().sum()"
      ]
    },
    {
      "cell_type": "markdown",
      "metadata": {
        "id": "_w3PmwXq_JTK"
      },
      "source": [
        "Ternyata pada data join terdapat 2966510 duplikasi."
      ]
    },
    {
      "cell_type": "markdown",
      "metadata": {
        "id": "rO7LydTxauCb"
      },
      "source": [
        "### Kami akan menghapus data duplikat di atas"
      ]
    },
    {
      "cell_type": "code",
      "execution_count": null,
      "metadata": {
        "colab": {
          "base_uri": "https://localhost:8080/"
        },
        "id": "yb5PZ4kiauCc",
        "outputId": "6913223f-8f75-43da-db1f-98e89baaef0c"
      },
      "outputs": [
        {
          "name": "stdout",
          "output_type": "stream",
          "text": [
            "0\n",
            "(17249590, 17)\n"
          ]
        }
      ],
      "source": [
        "join.drop_duplicates(inplace=True)\n",
        "print(join.duplicated().sum())\n",
        "print(join.shape)"
      ]
    },
    {
      "cell_type": "markdown",
      "metadata": {
        "id": "GfUw6sqqauCd"
      },
      "source": [
        "Maka, sudah tidak ada duplikasi di data join."
      ]
    },
    {
      "cell_type": "markdown",
      "metadata": {
        "id": "cmKspMuQjccA"
      },
      "source": [
        "# **Memilih Variabel Tertentu pada Data Join**"
      ]
    },
    {
      "cell_type": "markdown",
      "metadata": {
        "id": "HBOBNUrH_tF5"
      },
      "source": [
        "### Kami akan memilih variabel yang bertipe numerik"
      ]
    },
    {
      "cell_type": "code",
      "execution_count": null,
      "metadata": {
        "colab": {
          "base_uri": "https://localhost:8080/",
          "height": 224
        },
        "id": "DBk2WnVLiCWt",
        "outputId": "1e76abeb-9377-4449-e62a-f24c3faa88b9"
      },
      "outputs": [
        {
          "data": {
            "text/html": [
              "<div>\n",
              "<style scoped>\n",
              "    .dataframe tbody tr th:only-of-type {\n",
              "        vertical-align: middle;\n",
              "    }\n",
              "\n",
              "    .dataframe tbody tr th {\n",
              "        vertical-align: top;\n",
              "    }\n",
              "\n",
              "    .dataframe thead th {\n",
              "        text-align: right;\n",
              "    }\n",
              "</style>\n",
              "<table border=\"1\" class=\"dataframe\">\n",
              "  <thead>\n",
              "    <tr style=\"text-align: right;\">\n",
              "      <th></th>\n",
              "      <th>site_id</th>\n",
              "      <th>square_feet</th>\n",
              "      <th>year_built</th>\n",
              "      <th>floor_count</th>\n",
              "      <th>meter</th>\n",
              "      <th>meter_reading</th>\n",
              "      <th>site_id</th>\n",
              "      <th>air_temperature</th>\n",
              "      <th>cloud_coverage</th>\n",
              "      <th>dew_temperature</th>\n",
              "      <th>precip_depth_1_hr</th>\n",
              "      <th>sea_level_pressure</th>\n",
              "      <th>wind_direction</th>\n",
              "      <th>wind_speed</th>\n",
              "    </tr>\n",
              "  </thead>\n",
              "  <tbody>\n",
              "    <tr>\n",
              "      <th>0</th>\n",
              "      <td>0.0</td>\n",
              "      <td>7432.0</td>\n",
              "      <td>2008.0</td>\n",
              "      <td>NaN</td>\n",
              "      <td>0</td>\n",
              "      <td>0.0</td>\n",
              "      <td>0.0</td>\n",
              "      <td>25.0</td>\n",
              "      <td>6.0</td>\n",
              "      <td>20.0</td>\n",
              "      <td>NaN</td>\n",
              "      <td>1019.7</td>\n",
              "      <td>0.0</td>\n",
              "      <td>0.0</td>\n",
              "    </tr>\n",
              "    <tr>\n",
              "      <th>1</th>\n",
              "      <td>0.0</td>\n",
              "      <td>2720.0</td>\n",
              "      <td>2004.0</td>\n",
              "      <td>NaN</td>\n",
              "      <td>0</td>\n",
              "      <td>0.0</td>\n",
              "      <td>0.0</td>\n",
              "      <td>24.4</td>\n",
              "      <td>NaN</td>\n",
              "      <td>21.1</td>\n",
              "      <td>-1.0</td>\n",
              "      <td>1020.2</td>\n",
              "      <td>70.0</td>\n",
              "      <td>1.5</td>\n",
              "    </tr>\n",
              "    <tr>\n",
              "      <th>2</th>\n",
              "      <td>0.0</td>\n",
              "      <td>5376.0</td>\n",
              "      <td>1991.0</td>\n",
              "      <td>NaN</td>\n",
              "      <td>0</td>\n",
              "      <td>0.0</td>\n",
              "      <td>0.0</td>\n",
              "      <td>22.8</td>\n",
              "      <td>2.0</td>\n",
              "      <td>21.1</td>\n",
              "      <td>0.0</td>\n",
              "      <td>1020.2</td>\n",
              "      <td>0.0</td>\n",
              "      <td>0.0</td>\n",
              "    </tr>\n",
              "    <tr>\n",
              "      <th>3</th>\n",
              "      <td>0.0</td>\n",
              "      <td>23685.0</td>\n",
              "      <td>2002.0</td>\n",
              "      <td>NaN</td>\n",
              "      <td>0</td>\n",
              "      <td>0.0</td>\n",
              "      <td>0.0</td>\n",
              "      <td>21.1</td>\n",
              "      <td>2.0</td>\n",
              "      <td>20.6</td>\n",
              "      <td>0.0</td>\n",
              "      <td>1020.1</td>\n",
              "      <td>0.0</td>\n",
              "      <td>0.0</td>\n",
              "    </tr>\n",
              "    <tr>\n",
              "      <th>4</th>\n",
              "      <td>0.0</td>\n",
              "      <td>116607.0</td>\n",
              "      <td>1975.0</td>\n",
              "      <td>NaN</td>\n",
              "      <td>0</td>\n",
              "      <td>0.0</td>\n",
              "      <td>0.0</td>\n",
              "      <td>20.0</td>\n",
              "      <td>2.0</td>\n",
              "      <td>20.0</td>\n",
              "      <td>-1.0</td>\n",
              "      <td>1020.0</td>\n",
              "      <td>250.0</td>\n",
              "      <td>2.6</td>\n",
              "    </tr>\n",
              "  </tbody>\n",
              "</table>\n",
              "</div>"
            ],
            "text/plain": [
              "   site_id  square_feet  ...  wind_direction  wind_speed\n",
              "0      0.0       7432.0  ...             0.0         0.0\n",
              "1      0.0       2720.0  ...            70.0         1.5\n",
              "2      0.0       5376.0  ...             0.0         0.0\n",
              "3      0.0      23685.0  ...             0.0         0.0\n",
              "4      0.0     116607.0  ...           250.0         2.6\n",
              "\n",
              "[5 rows x 14 columns]"
            ]
          },
          "execution_count": 21,
          "metadata": {},
          "output_type": "execute_result"
        }
      ],
      "source": [
        "join_num = join.select_dtypes(include = ['float64', 'int64'])\n",
        "join_num.head()"
      ]
    },
    {
      "cell_type": "markdown",
      "metadata": {
        "id": "tFSpja9Y__VP"
      },
      "source": [
        "### Kami akan memilih variabel yang bertipe category"
      ]
    },
    {
      "cell_type": "code",
      "execution_count": null,
      "metadata": {
        "colab": {
          "base_uri": "https://localhost:8080/",
          "height": 204
        },
        "id": "CBtTSeXAiCU8",
        "outputId": "8c0b7854-ed80-4b63-a176-cfa1cda97add"
      },
      "outputs": [
        {
          "data": {
            "text/html": [
              "<div>\n",
              "<style scoped>\n",
              "    .dataframe tbody tr th:only-of-type {\n",
              "        vertical-align: middle;\n",
              "    }\n",
              "\n",
              "    .dataframe tbody tr th {\n",
              "        vertical-align: top;\n",
              "    }\n",
              "\n",
              "    .dataframe thead th {\n",
              "        text-align: right;\n",
              "    }\n",
              "</style>\n",
              "<table border=\"1\" class=\"dataframe\">\n",
              "  <thead>\n",
              "    <tr style=\"text-align: right;\">\n",
              "      <th></th>\n",
              "      <th>primary_use</th>\n",
              "    </tr>\n",
              "  </thead>\n",
              "  <tbody>\n",
              "    <tr>\n",
              "      <th>0</th>\n",
              "      <td>Education</td>\n",
              "    </tr>\n",
              "    <tr>\n",
              "      <th>1</th>\n",
              "      <td>Education</td>\n",
              "    </tr>\n",
              "    <tr>\n",
              "      <th>2</th>\n",
              "      <td>Education</td>\n",
              "    </tr>\n",
              "    <tr>\n",
              "      <th>3</th>\n",
              "      <td>Education</td>\n",
              "    </tr>\n",
              "    <tr>\n",
              "      <th>4</th>\n",
              "      <td>Education</td>\n",
              "    </tr>\n",
              "  </tbody>\n",
              "</table>\n",
              "</div>"
            ],
            "text/plain": [
              "  primary_use\n",
              "0   Education\n",
              "1   Education\n",
              "2   Education\n",
              "3   Education\n",
              "4   Education"
            ]
          },
          "execution_count": 22,
          "metadata": {},
          "output_type": "execute_result"
        }
      ],
      "source": [
        "join_cat = join.select_dtypes(include = ['category'])\n",
        "join_cat.head()"
      ]
    },
    {
      "cell_type": "markdown",
      "metadata": {
        "id": "NCgmKy2VpBik"
      },
      "source": [
        "# **Missing Value Data Join**"
      ]
    },
    {
      "cell_type": "markdown",
      "metadata": {
        "id": "O6yK-0r-ALch"
      },
      "source": [
        "### Kita lihat secara umum nilai - nilai yang hilang"
      ]
    },
    {
      "cell_type": "code",
      "execution_count": null,
      "metadata": {
        "colab": {
          "base_uri": "https://localhost:8080/"
        },
        "id": "lOH067tTnIZt",
        "outputId": "a6ef883d-c264-49aa-9db5-7500fa82dc1d"
      },
      "outputs": [
        {
          "name": "stdout",
          "output_type": "stream",
          "text": [
            "site_id               17248141\n",
            "primary_use           17248141\n",
            "square_feet           17248141\n",
            "year_built            17248915\n",
            "floor_count           17249235\n",
            "meter                        0\n",
            "timestamp                    0\n",
            "meter_reading                0\n",
            "site_id               17109817\n",
            "timestamp             17109817\n",
            "air_temperature       17109872\n",
            "cloud_coverage        17178990\n",
            "dew_temperature       17109930\n",
            "precip_depth_1_hr     17160106\n",
            "sea_level_pressure    17120435\n",
            "wind_direction        17116085\n",
            "wind_speed            17110121\n",
            "dtype: int64\n"
          ]
        }
      ],
      "source": [
        "print(join.isnull().sum())"
      ]
    },
    {
      "cell_type": "markdown",
      "metadata": {
        "id": "tthmohBXASIk"
      },
      "source": [
        "### Menghitung persentase berapa banyak Null"
      ]
    },
    {
      "cell_type": "code",
      "execution_count": null,
      "metadata": {
        "colab": {
          "base_uri": "https://localhost:8080/",
          "height": 576
        },
        "id": "fQJlx-SvnISX",
        "outputId": "b6985939-2e43-4295-aee3-3daa5c7ffd6b"
      },
      "outputs": [
        {
          "data": {
            "text/html": [
              "<div>\n",
              "<style scoped>\n",
              "    .dataframe tbody tr th:only-of-type {\n",
              "        vertical-align: middle;\n",
              "    }\n",
              "\n",
              "    .dataframe tbody tr th {\n",
              "        vertical-align: top;\n",
              "    }\n",
              "\n",
              "    .dataframe thead th {\n",
              "        text-align: right;\n",
              "    }\n",
              "</style>\n",
              "<table border=\"1\" class=\"dataframe\">\n",
              "  <thead>\n",
              "    <tr style=\"text-align: right;\">\n",
              "      <th></th>\n",
              "      <th>persentase missing</th>\n",
              "    </tr>\n",
              "  </thead>\n",
              "  <tbody>\n",
              "    <tr>\n",
              "      <th>site_id</th>\n",
              "      <td>0.999916</td>\n",
              "    </tr>\n",
              "    <tr>\n",
              "      <th>primary_use</th>\n",
              "      <td>0.999916</td>\n",
              "    </tr>\n",
              "    <tr>\n",
              "      <th>square_feet</th>\n",
              "      <td>0.999916</td>\n",
              "    </tr>\n",
              "    <tr>\n",
              "      <th>year_built</th>\n",
              "      <td>0.999961</td>\n",
              "    </tr>\n",
              "    <tr>\n",
              "      <th>floor_count</th>\n",
              "      <td>0.999979</td>\n",
              "    </tr>\n",
              "    <tr>\n",
              "      <th>meter</th>\n",
              "      <td>0.000000</td>\n",
              "    </tr>\n",
              "    <tr>\n",
              "      <th>timestamp</th>\n",
              "      <td>0.000000</td>\n",
              "    </tr>\n",
              "    <tr>\n",
              "      <th>meter_reading</th>\n",
              "      <td>0.000000</td>\n",
              "    </tr>\n",
              "    <tr>\n",
              "      <th>site_id</th>\n",
              "      <td>0.991897</td>\n",
              "    </tr>\n",
              "    <tr>\n",
              "      <th>timestamp</th>\n",
              "      <td>0.991897</td>\n",
              "    </tr>\n",
              "    <tr>\n",
              "      <th>air_temperature</th>\n",
              "      <td>0.991900</td>\n",
              "    </tr>\n",
              "    <tr>\n",
              "      <th>cloud_coverage</th>\n",
              "      <td>0.995907</td>\n",
              "    </tr>\n",
              "    <tr>\n",
              "      <th>dew_temperature</th>\n",
              "      <td>0.991904</td>\n",
              "    </tr>\n",
              "    <tr>\n",
              "      <th>precip_depth_1_hr</th>\n",
              "      <td>0.994812</td>\n",
              "    </tr>\n",
              "    <tr>\n",
              "      <th>sea_level_pressure</th>\n",
              "      <td>0.992513</td>\n",
              "    </tr>\n",
              "    <tr>\n",
              "      <th>wind_direction</th>\n",
              "      <td>0.992260</td>\n",
              "    </tr>\n",
              "    <tr>\n",
              "      <th>wind_speed</th>\n",
              "      <td>0.991915</td>\n",
              "    </tr>\n",
              "  </tbody>\n",
              "</table>\n",
              "</div>"
            ],
            "text/plain": [
              "                    persentase missing\n",
              "site_id                       0.999916\n",
              "primary_use                   0.999916\n",
              "square_feet                   0.999916\n",
              "year_built                    0.999961\n",
              "floor_count                   0.999979\n",
              "meter                         0.000000\n",
              "timestamp                     0.000000\n",
              "meter_reading                 0.000000\n",
              "site_id                       0.991897\n",
              "timestamp                     0.991897\n",
              "air_temperature               0.991900\n",
              "cloud_coverage                0.995907\n",
              "dew_temperature               0.991904\n",
              "precip_depth_1_hr             0.994812\n",
              "sea_level_pressure            0.992513\n",
              "wind_direction                0.992260\n",
              "wind_speed                    0.991915"
            ]
          },
          "execution_count": 24,
          "metadata": {},
          "output_type": "execute_result"
        }
      ],
      "source": [
        "(join.isnull().sum()/len(join)).to_frame('persentase missing')"
      ]
    },
    {
      "cell_type": "markdown",
      "metadata": {
        "id": "JJKRQgaUAr3p"
      },
      "source": [
        "### Kami akan menghilangkan missing value dengan beberapa cara"
      ]
    },
    {
      "cell_type": "code",
      "execution_count": null,
      "metadata": {
        "id": "W1agx8kVnIQp"
      },
      "outputs": [],
      "source": [
        "X = join.dropna() # jika ada Missing Value minimal satu di salah satu kolom, maka baris di hapus\n",
        "join.dropna(how='all') # jika ada Missing Value di semua kolom, maka baris di hapus\n",
        "join.dropna(thresh=2) # jika ada Missing Value minimal di salah 2 kolom, maka baris di hapus\n",
        "# inplace=True jika sangat yakin\n",
        "join.dropna(inplace=True) # dropna untuk menghapus data yg tidak spesial"
      ]
    },
    {
      "cell_type": "code",
      "execution_count": null,
      "metadata": {
        "colab": {
          "base_uri": "https://localhost:8080/"
        },
        "id": "A1N4nYwcnIM7",
        "outputId": "8e07e395-f065-4272-b8d4-b76e1419069f"
      },
      "outputs": [
        {
          "name": "stdout",
          "output_type": "stream",
          "text": [
            "site_id               0\n",
            "primary_use           0\n",
            "square_feet           0\n",
            "year_built            0\n",
            "floor_count           0\n",
            "meter                 0\n",
            "timestamp             0\n",
            "meter_reading         0\n",
            "site_id               0\n",
            "timestamp             0\n",
            "air_temperature       0\n",
            "cloud_coverage        0\n",
            "dew_temperature       0\n",
            "precip_depth_1_hr     0\n",
            "sea_level_pressure    0\n",
            "wind_direction        0\n",
            "wind_speed            0\n",
            "dtype: int64\n"
          ]
        }
      ],
      "source": [
        "print(join.isnull().sum())"
      ]
    },
    {
      "cell_type": "markdown",
      "metadata": {
        "id": "LB7L_nZrA15A"
      },
      "source": [
        "Maka, sudah tidak ada missing value di setiap kolom"
      ]
    },
    {
      "cell_type": "markdown",
      "metadata": {
        "id": "ephuL3bYrUmX"
      },
      "source": [
        "# **Statistika Deskriptif Join**"
      ]
    },
    {
      "cell_type": "code",
      "execution_count": null,
      "metadata": {
        "colab": {
          "base_uri": "https://localhost:8080/",
          "height": 317
        },
        "id": "Mi9rr1ranILJ",
        "outputId": "e32863e3-07b0-4b31-d9b0-3aed9fa03ba7"
      },
      "outputs": [
        {
          "data": {
            "text/html": [
              "<div>\n",
              "<style scoped>\n",
              "    .dataframe tbody tr th:only-of-type {\n",
              "        vertical-align: middle;\n",
              "    }\n",
              "\n",
              "    .dataframe tbody tr th {\n",
              "        vertical-align: top;\n",
              "    }\n",
              "\n",
              "    .dataframe thead th {\n",
              "        text-align: right;\n",
              "    }\n",
              "</style>\n",
              "<table border=\"1\" class=\"dataframe\">\n",
              "  <thead>\n",
              "    <tr style=\"text-align: right;\">\n",
              "      <th></th>\n",
              "      <th>site_id</th>\n",
              "      <th>square_feet</th>\n",
              "      <th>year_built</th>\n",
              "      <th>floor_count</th>\n",
              "      <th>meter</th>\n",
              "      <th>meter_reading</th>\n",
              "      <th>site_id</th>\n",
              "      <th>air_temperature</th>\n",
              "      <th>cloud_coverage</th>\n",
              "      <th>dew_temperature</th>\n",
              "      <th>precip_depth_1_hr</th>\n",
              "      <th>sea_level_pressure</th>\n",
              "      <th>wind_direction</th>\n",
              "      <th>wind_speed</th>\n",
              "    </tr>\n",
              "  </thead>\n",
              "  <tbody>\n",
              "    <tr>\n",
              "      <th>count</th>\n",
              "      <td>80.000000</td>\n",
              "      <td>80.000000</td>\n",
              "      <td>80.000000</td>\n",
              "      <td>80.000000</td>\n",
              "      <td>80.00000</td>\n",
              "      <td>80.000000</td>\n",
              "      <td>80.0</td>\n",
              "      <td>80.000000</td>\n",
              "      <td>80.000000</td>\n",
              "      <td>80.000000</td>\n",
              "      <td>80.000000</td>\n",
              "      <td>80.000000</td>\n",
              "      <td>80.000000</td>\n",
              "      <td>80.000000</td>\n",
              "    </tr>\n",
              "    <tr>\n",
              "      <th>mean</th>\n",
              "      <td>4.087500</td>\n",
              "      <td>90498.300000</td>\n",
              "      <td>1956.550000</td>\n",
              "      <td>4.962500</td>\n",
              "      <td>0.07500</td>\n",
              "      <td>93.511135</td>\n",
              "      <td>0.0</td>\n",
              "      <td>13.243750</td>\n",
              "      <td>3.750000</td>\n",
              "      <td>7.370000</td>\n",
              "      <td>0.962500</td>\n",
              "      <td>1021.077500</td>\n",
              "      <td>143.250000</td>\n",
              "      <td>3.125000</td>\n",
              "    </tr>\n",
              "    <tr>\n",
              "      <th>std</th>\n",
              "      <td>1.485744</td>\n",
              "      <td>89209.765689</td>\n",
              "      <td>30.814636</td>\n",
              "      <td>3.384416</td>\n",
              "      <td>0.47133</td>\n",
              "      <td>180.849252</td>\n",
              "      <td>0.0</td>\n",
              "      <td>5.843374</td>\n",
              "      <td>2.940335</td>\n",
              "      <td>6.794607</td>\n",
              "      <td>4.135195</td>\n",
              "      <td>3.824107</td>\n",
              "      <td>133.120056</td>\n",
              "      <td>2.365924</td>\n",
              "    </tr>\n",
              "    <tr>\n",
              "      <th>min</th>\n",
              "      <td>1.000000</td>\n",
              "      <td>2010.000000</td>\n",
              "      <td>1903.000000</td>\n",
              "      <td>1.000000</td>\n",
              "      <td>0.00000</td>\n",
              "      <td>0.000000</td>\n",
              "      <td>0.0</td>\n",
              "      <td>1.700000</td>\n",
              "      <td>0.000000</td>\n",
              "      <td>-3.900000</td>\n",
              "      <td>-1.000000</td>\n",
              "      <td>1008.800000</td>\n",
              "      <td>0.000000</td>\n",
              "      <td>0.000000</td>\n",
              "    </tr>\n",
              "    <tr>\n",
              "      <th>25%</th>\n",
              "      <td>4.000000</td>\n",
              "      <td>22725.500000</td>\n",
              "      <td>1928.500000</td>\n",
              "      <td>2.000000</td>\n",
              "      <td>0.00000</td>\n",
              "      <td>16.249575</td>\n",
              "      <td>0.0</td>\n",
              "      <td>8.900000</td>\n",
              "      <td>2.000000</td>\n",
              "      <td>2.200000</td>\n",
              "      <td>0.000000</td>\n",
              "      <td>1018.775000</td>\n",
              "      <td>10.000000</td>\n",
              "      <td>1.500000</td>\n",
              "    </tr>\n",
              "    <tr>\n",
              "      <th>50%</th>\n",
              "      <td>4.000000</td>\n",
              "      <td>65922.000000</td>\n",
              "      <td>1959.000000</td>\n",
              "      <td>4.000000</td>\n",
              "      <td>0.00000</td>\n",
              "      <td>35.430000</td>\n",
              "      <td>0.0</td>\n",
              "      <td>13.300000</td>\n",
              "      <td>4.000000</td>\n",
              "      <td>7.800000</td>\n",
              "      <td>0.000000</td>\n",
              "      <td>1022.400000</td>\n",
              "      <td>100.000000</td>\n",
              "      <td>3.100000</td>\n",
              "    </tr>\n",
              "    <tr>\n",
              "      <th>75%</th>\n",
              "      <td>5.000000</td>\n",
              "      <td>118895.000000</td>\n",
              "      <td>1976.000000</td>\n",
              "      <td>7.000000</td>\n",
              "      <td>0.00000</td>\n",
              "      <td>86.782500</td>\n",
              "      <td>0.0</td>\n",
              "      <td>17.925000</td>\n",
              "      <td>6.000000</td>\n",
              "      <td>11.825000</td>\n",
              "      <td>0.000000</td>\n",
              "      <td>1023.900000</td>\n",
              "      <td>290.000000</td>\n",
              "      <td>4.725000</td>\n",
              "    </tr>\n",
              "    <tr>\n",
              "      <th>max</th>\n",
              "      <td>7.000000</td>\n",
              "      <td>409028.000000</td>\n",
              "      <td>2016.000000</td>\n",
              "      <td>21.000000</td>\n",
              "      <td>3.00000</td>\n",
              "      <td>1216.680000</td>\n",
              "      <td>0.0</td>\n",
              "      <td>25.600000</td>\n",
              "      <td>8.000000</td>\n",
              "      <td>19.400000</td>\n",
              "      <td>23.000000</td>\n",
              "      <td>1027.000000</td>\n",
              "      <td>360.000000</td>\n",
              "      <td>8.800000</td>\n",
              "    </tr>\n",
              "  </tbody>\n",
              "</table>\n",
              "</div>"
            ],
            "text/plain": [
              "         site_id    square_feet  ...  wind_direction  wind_speed\n",
              "count  80.000000      80.000000  ...       80.000000   80.000000\n",
              "mean    4.087500   90498.300000  ...      143.250000    3.125000\n",
              "std     1.485744   89209.765689  ...      133.120056    2.365924\n",
              "min     1.000000    2010.000000  ...        0.000000    0.000000\n",
              "25%     4.000000   22725.500000  ...       10.000000    1.500000\n",
              "50%     4.000000   65922.000000  ...      100.000000    3.100000\n",
              "75%     5.000000  118895.000000  ...      290.000000    4.725000\n",
              "max     7.000000  409028.000000  ...      360.000000    8.800000\n",
              "\n",
              "[8 rows x 14 columns]"
            ]
          },
          "execution_count": 27,
          "metadata": {},
          "output_type": "execute_result"
        }
      ],
      "source": [
        "join.describe()\n",
        "# Mengeluarkan hasil statistika"
      ]
    },
    {
      "cell_type": "markdown",
      "metadata": {
        "id": "OlzswSJdQsVE"
      },
      "source": [
        "Dari data diatas diketahui bahwa count dari seluruh variabel berjumlah 80.000.000\n",
        "\n",
        "Rata-rata, standar deviasi, nilai minimum, kuartal 1, median, kuartal 3 dan nilai maksimum terbesar ada di variabel square_feet.\n",
        "\n",
        "Rata-rata, standar deviasi, nilai minimum, kuartal 1, median, kuartal 3 dan nilai maksimum terkecil ada di variabel site_id."
      ]
    },
    {
      "cell_type": "code",
      "execution_count": null,
      "metadata": {
        "colab": {
          "base_uri": "https://localhost:8080/",
          "height": 444
        },
        "id": "zqXIyXgJnIHK",
        "outputId": "5c39e679-faa2-4076-bffc-0197afcf56ca"
      },
      "outputs": [
        {
          "data": {
            "text/html": [
              "<div>\n",
              "<style scoped>\n",
              "    .dataframe tbody tr th:only-of-type {\n",
              "        vertical-align: middle;\n",
              "    }\n",
              "\n",
              "    .dataframe tbody tr th {\n",
              "        vertical-align: top;\n",
              "    }\n",
              "\n",
              "    .dataframe thead th {\n",
              "        text-align: right;\n",
              "    }\n",
              "</style>\n",
              "<table border=\"1\" class=\"dataframe\">\n",
              "  <thead>\n",
              "    <tr style=\"text-align: right;\">\n",
              "      <th></th>\n",
              "      <th>site_id</th>\n",
              "      <th>primary_use</th>\n",
              "      <th>square_feet</th>\n",
              "      <th>year_built</th>\n",
              "      <th>floor_count</th>\n",
              "      <th>meter</th>\n",
              "      <th>timestamp</th>\n",
              "      <th>meter_reading</th>\n",
              "      <th>site_id</th>\n",
              "      <th>timestamp</th>\n",
              "      <th>air_temperature</th>\n",
              "      <th>cloud_coverage</th>\n",
              "      <th>dew_temperature</th>\n",
              "      <th>precip_depth_1_hr</th>\n",
              "      <th>sea_level_pressure</th>\n",
              "      <th>wind_direction</th>\n",
              "      <th>wind_speed</th>\n",
              "    </tr>\n",
              "  </thead>\n",
              "  <tbody>\n",
              "    <tr>\n",
              "      <th>count</th>\n",
              "      <td>80.000000</td>\n",
              "      <td>80</td>\n",
              "      <td>80.000000</td>\n",
              "      <td>80.000000</td>\n",
              "      <td>80.000000</td>\n",
              "      <td>80.00000</td>\n",
              "      <td>80</td>\n",
              "      <td>80.000000</td>\n",
              "      <td>80.0</td>\n",
              "      <td>80</td>\n",
              "      <td>80.000000</td>\n",
              "      <td>80.000000</td>\n",
              "      <td>80.000000</td>\n",
              "      <td>80.000000</td>\n",
              "      <td>80.000000</td>\n",
              "      <td>80.000000</td>\n",
              "      <td>80.000000</td>\n",
              "    </tr>\n",
              "    <tr>\n",
              "      <th>unique</th>\n",
              "      <td>NaN</td>\n",
              "      <td>8</td>\n",
              "      <td>NaN</td>\n",
              "      <td>NaN</td>\n",
              "      <td>NaN</td>\n",
              "      <td>NaN</td>\n",
              "      <td>1</td>\n",
              "      <td>NaN</td>\n",
              "      <td>NaN</td>\n",
              "      <td>80</td>\n",
              "      <td>NaN</td>\n",
              "      <td>NaN</td>\n",
              "      <td>NaN</td>\n",
              "      <td>NaN</td>\n",
              "      <td>NaN</td>\n",
              "      <td>NaN</td>\n",
              "      <td>NaN</td>\n",
              "    </tr>\n",
              "    <tr>\n",
              "      <th>top</th>\n",
              "      <td>NaN</td>\n",
              "      <td>Education</td>\n",
              "      <td>NaN</td>\n",
              "      <td>NaN</td>\n",
              "      <td>NaN</td>\n",
              "      <td>NaN</td>\n",
              "      <td>2016-01-01 00:00:00</td>\n",
              "      <td>NaN</td>\n",
              "      <td>NaN</td>\n",
              "      <td>2016-01-28 18:00:00</td>\n",
              "      <td>NaN</td>\n",
              "      <td>NaN</td>\n",
              "      <td>NaN</td>\n",
              "      <td>NaN</td>\n",
              "      <td>NaN</td>\n",
              "      <td>NaN</td>\n",
              "      <td>NaN</td>\n",
              "    </tr>\n",
              "    <tr>\n",
              "      <th>freq</th>\n",
              "      <td>NaN</td>\n",
              "      <td>52</td>\n",
              "      <td>NaN</td>\n",
              "      <td>NaN</td>\n",
              "      <td>NaN</td>\n",
              "      <td>NaN</td>\n",
              "      <td>80</td>\n",
              "      <td>NaN</td>\n",
              "      <td>NaN</td>\n",
              "      <td>1</td>\n",
              "      <td>NaN</td>\n",
              "      <td>NaN</td>\n",
              "      <td>NaN</td>\n",
              "      <td>NaN</td>\n",
              "      <td>NaN</td>\n",
              "      <td>NaN</td>\n",
              "      <td>NaN</td>\n",
              "    </tr>\n",
              "    <tr>\n",
              "      <th>mean</th>\n",
              "      <td>4.087500</td>\n",
              "      <td>NaN</td>\n",
              "      <td>90498.300000</td>\n",
              "      <td>1956.550000</td>\n",
              "      <td>4.962500</td>\n",
              "      <td>0.07500</td>\n",
              "      <td>NaN</td>\n",
              "      <td>93.511135</td>\n",
              "      <td>0.0</td>\n",
              "      <td>NaN</td>\n",
              "      <td>13.243750</td>\n",
              "      <td>3.750000</td>\n",
              "      <td>7.370000</td>\n",
              "      <td>0.962500</td>\n",
              "      <td>1021.077500</td>\n",
              "      <td>143.250000</td>\n",
              "      <td>3.125000</td>\n",
              "    </tr>\n",
              "    <tr>\n",
              "      <th>std</th>\n",
              "      <td>1.485744</td>\n",
              "      <td>NaN</td>\n",
              "      <td>89209.765689</td>\n",
              "      <td>30.814636</td>\n",
              "      <td>3.384416</td>\n",
              "      <td>0.47133</td>\n",
              "      <td>NaN</td>\n",
              "      <td>180.849252</td>\n",
              "      <td>0.0</td>\n",
              "      <td>NaN</td>\n",
              "      <td>5.843374</td>\n",
              "      <td>2.940335</td>\n",
              "      <td>6.794607</td>\n",
              "      <td>4.135195</td>\n",
              "      <td>3.824107</td>\n",
              "      <td>133.120056</td>\n",
              "      <td>2.365924</td>\n",
              "    </tr>\n",
              "    <tr>\n",
              "      <th>min</th>\n",
              "      <td>1.000000</td>\n",
              "      <td>NaN</td>\n",
              "      <td>2010.000000</td>\n",
              "      <td>1903.000000</td>\n",
              "      <td>1.000000</td>\n",
              "      <td>0.00000</td>\n",
              "      <td>NaN</td>\n",
              "      <td>0.000000</td>\n",
              "      <td>0.0</td>\n",
              "      <td>NaN</td>\n",
              "      <td>1.700000</td>\n",
              "      <td>0.000000</td>\n",
              "      <td>-3.900000</td>\n",
              "      <td>-1.000000</td>\n",
              "      <td>1008.800000</td>\n",
              "      <td>0.000000</td>\n",
              "      <td>0.000000</td>\n",
              "    </tr>\n",
              "    <tr>\n",
              "      <th>25%</th>\n",
              "      <td>4.000000</td>\n",
              "      <td>NaN</td>\n",
              "      <td>22725.500000</td>\n",
              "      <td>1928.500000</td>\n",
              "      <td>2.000000</td>\n",
              "      <td>0.00000</td>\n",
              "      <td>NaN</td>\n",
              "      <td>16.249575</td>\n",
              "      <td>0.0</td>\n",
              "      <td>NaN</td>\n",
              "      <td>8.900000</td>\n",
              "      <td>2.000000</td>\n",
              "      <td>2.200000</td>\n",
              "      <td>0.000000</td>\n",
              "      <td>1018.775000</td>\n",
              "      <td>10.000000</td>\n",
              "      <td>1.500000</td>\n",
              "    </tr>\n",
              "    <tr>\n",
              "      <th>50%</th>\n",
              "      <td>4.000000</td>\n",
              "      <td>NaN</td>\n",
              "      <td>65922.000000</td>\n",
              "      <td>1959.000000</td>\n",
              "      <td>4.000000</td>\n",
              "      <td>0.00000</td>\n",
              "      <td>NaN</td>\n",
              "      <td>35.430000</td>\n",
              "      <td>0.0</td>\n",
              "      <td>NaN</td>\n",
              "      <td>13.300000</td>\n",
              "      <td>4.000000</td>\n",
              "      <td>7.800000</td>\n",
              "      <td>0.000000</td>\n",
              "      <td>1022.400000</td>\n",
              "      <td>100.000000</td>\n",
              "      <td>3.100000</td>\n",
              "    </tr>\n",
              "    <tr>\n",
              "      <th>75%</th>\n",
              "      <td>5.000000</td>\n",
              "      <td>NaN</td>\n",
              "      <td>118895.000000</td>\n",
              "      <td>1976.000000</td>\n",
              "      <td>7.000000</td>\n",
              "      <td>0.00000</td>\n",
              "      <td>NaN</td>\n",
              "      <td>86.782500</td>\n",
              "      <td>0.0</td>\n",
              "      <td>NaN</td>\n",
              "      <td>17.925000</td>\n",
              "      <td>6.000000</td>\n",
              "      <td>11.825000</td>\n",
              "      <td>0.000000</td>\n",
              "      <td>1023.900000</td>\n",
              "      <td>290.000000</td>\n",
              "      <td>4.725000</td>\n",
              "    </tr>\n",
              "    <tr>\n",
              "      <th>max</th>\n",
              "      <td>7.000000</td>\n",
              "      <td>NaN</td>\n",
              "      <td>409028.000000</td>\n",
              "      <td>2016.000000</td>\n",
              "      <td>21.000000</td>\n",
              "      <td>3.00000</td>\n",
              "      <td>NaN</td>\n",
              "      <td>1216.680000</td>\n",
              "      <td>0.0</td>\n",
              "      <td>NaN</td>\n",
              "      <td>25.600000</td>\n",
              "      <td>8.000000</td>\n",
              "      <td>19.400000</td>\n",
              "      <td>23.000000</td>\n",
              "      <td>1027.000000</td>\n",
              "      <td>360.000000</td>\n",
              "      <td>8.800000</td>\n",
              "    </tr>\n",
              "  </tbody>\n",
              "</table>\n",
              "</div>"
            ],
            "text/plain": [
              "          site_id primary_use  ...  wind_direction  wind_speed\n",
              "count   80.000000          80  ...       80.000000   80.000000\n",
              "unique        NaN           8  ...             NaN         NaN\n",
              "top           NaN   Education  ...             NaN         NaN\n",
              "freq          NaN          52  ...             NaN         NaN\n",
              "mean     4.087500         NaN  ...      143.250000    3.125000\n",
              "std      1.485744         NaN  ...      133.120056    2.365924\n",
              "min      1.000000         NaN  ...        0.000000    0.000000\n",
              "25%      4.000000         NaN  ...       10.000000    1.500000\n",
              "50%      4.000000         NaN  ...      100.000000    3.100000\n",
              "75%      5.000000         NaN  ...      290.000000    4.725000\n",
              "max      7.000000         NaN  ...      360.000000    8.800000\n",
              "\n",
              "[11 rows x 17 columns]"
            ]
          },
          "execution_count": 28,
          "metadata": {},
          "output_type": "execute_result"
        }
      ],
      "source": [
        "# Statistika Sederhana dari data \"Numerik\" nya\n",
        "join.describe(include='all')"
      ]
    },
    {
      "cell_type": "code",
      "execution_count": null,
      "metadata": {
        "colab": {
          "base_uri": "https://localhost:8080/",
          "height": 576
        },
        "id": "M9UQOBXPsj5o",
        "outputId": "198a402d-1002-4bcf-9c2b-3ecae0d69bb0"
      },
      "outputs": [
        {
          "data": {
            "text/html": [
              "<div>\n",
              "<style scoped>\n",
              "    .dataframe tbody tr th:only-of-type {\n",
              "        vertical-align: middle;\n",
              "    }\n",
              "\n",
              "    .dataframe tbody tr th {\n",
              "        vertical-align: top;\n",
              "    }\n",
              "\n",
              "    .dataframe thead th {\n",
              "        text-align: right;\n",
              "    }\n",
              "</style>\n",
              "<table border=\"1\" class=\"dataframe\">\n",
              "  <thead>\n",
              "    <tr style=\"text-align: right;\">\n",
              "      <th></th>\n",
              "      <th>count</th>\n",
              "      <th>unique</th>\n",
              "      <th>top</th>\n",
              "      <th>freq</th>\n",
              "      <th>mean</th>\n",
              "      <th>std</th>\n",
              "      <th>min</th>\n",
              "      <th>25%</th>\n",
              "      <th>50%</th>\n",
              "      <th>75%</th>\n",
              "      <th>max</th>\n",
              "    </tr>\n",
              "  </thead>\n",
              "  <tbody>\n",
              "    <tr>\n",
              "      <th>site_id</th>\n",
              "      <td>80</td>\n",
              "      <td>NaN</td>\n",
              "      <td>NaN</td>\n",
              "      <td>NaN</td>\n",
              "      <td>4.0875</td>\n",
              "      <td>1.48574</td>\n",
              "      <td>1</td>\n",
              "      <td>4</td>\n",
              "      <td>4</td>\n",
              "      <td>5</td>\n",
              "      <td>7</td>\n",
              "    </tr>\n",
              "    <tr>\n",
              "      <th>primary_use</th>\n",
              "      <td>80</td>\n",
              "      <td>8</td>\n",
              "      <td>Education</td>\n",
              "      <td>52</td>\n",
              "      <td>NaN</td>\n",
              "      <td>NaN</td>\n",
              "      <td>NaN</td>\n",
              "      <td>NaN</td>\n",
              "      <td>NaN</td>\n",
              "      <td>NaN</td>\n",
              "      <td>NaN</td>\n",
              "    </tr>\n",
              "    <tr>\n",
              "      <th>square_feet</th>\n",
              "      <td>80</td>\n",
              "      <td>NaN</td>\n",
              "      <td>NaN</td>\n",
              "      <td>NaN</td>\n",
              "      <td>90498.3</td>\n",
              "      <td>89209.8</td>\n",
              "      <td>2010</td>\n",
              "      <td>22725.5</td>\n",
              "      <td>65922</td>\n",
              "      <td>118895</td>\n",
              "      <td>409028</td>\n",
              "    </tr>\n",
              "    <tr>\n",
              "      <th>year_built</th>\n",
              "      <td>80</td>\n",
              "      <td>NaN</td>\n",
              "      <td>NaN</td>\n",
              "      <td>NaN</td>\n",
              "      <td>1956.55</td>\n",
              "      <td>30.8146</td>\n",
              "      <td>1903</td>\n",
              "      <td>1928.5</td>\n",
              "      <td>1959</td>\n",
              "      <td>1976</td>\n",
              "      <td>2016</td>\n",
              "    </tr>\n",
              "    <tr>\n",
              "      <th>floor_count</th>\n",
              "      <td>80</td>\n",
              "      <td>NaN</td>\n",
              "      <td>NaN</td>\n",
              "      <td>NaN</td>\n",
              "      <td>4.9625</td>\n",
              "      <td>3.38442</td>\n",
              "      <td>1</td>\n",
              "      <td>2</td>\n",
              "      <td>4</td>\n",
              "      <td>7</td>\n",
              "      <td>21</td>\n",
              "    </tr>\n",
              "    <tr>\n",
              "      <th>meter</th>\n",
              "      <td>80</td>\n",
              "      <td>NaN</td>\n",
              "      <td>NaN</td>\n",
              "      <td>NaN</td>\n",
              "      <td>0.075</td>\n",
              "      <td>0.47133</td>\n",
              "      <td>0</td>\n",
              "      <td>0</td>\n",
              "      <td>0</td>\n",
              "      <td>0</td>\n",
              "      <td>3</td>\n",
              "    </tr>\n",
              "    <tr>\n",
              "      <th>timestamp</th>\n",
              "      <td>80</td>\n",
              "      <td>1</td>\n",
              "      <td>2016-01-01 00:00:00</td>\n",
              "      <td>80</td>\n",
              "      <td>NaN</td>\n",
              "      <td>NaN</td>\n",
              "      <td>NaN</td>\n",
              "      <td>NaN</td>\n",
              "      <td>NaN</td>\n",
              "      <td>NaN</td>\n",
              "      <td>NaN</td>\n",
              "    </tr>\n",
              "    <tr>\n",
              "      <th>meter_reading</th>\n",
              "      <td>80</td>\n",
              "      <td>NaN</td>\n",
              "      <td>NaN</td>\n",
              "      <td>NaN</td>\n",
              "      <td>93.5111</td>\n",
              "      <td>180.849</td>\n",
              "      <td>0</td>\n",
              "      <td>16.2496</td>\n",
              "      <td>35.43</td>\n",
              "      <td>86.7825</td>\n",
              "      <td>1216.68</td>\n",
              "    </tr>\n",
              "    <tr>\n",
              "      <th>site_id</th>\n",
              "      <td>80</td>\n",
              "      <td>NaN</td>\n",
              "      <td>NaN</td>\n",
              "      <td>NaN</td>\n",
              "      <td>0</td>\n",
              "      <td>0</td>\n",
              "      <td>0</td>\n",
              "      <td>0</td>\n",
              "      <td>0</td>\n",
              "      <td>0</td>\n",
              "      <td>0</td>\n",
              "    </tr>\n",
              "    <tr>\n",
              "      <th>timestamp</th>\n",
              "      <td>80</td>\n",
              "      <td>80</td>\n",
              "      <td>2016-01-28 18:00:00</td>\n",
              "      <td>1</td>\n",
              "      <td>NaN</td>\n",
              "      <td>NaN</td>\n",
              "      <td>NaN</td>\n",
              "      <td>NaN</td>\n",
              "      <td>NaN</td>\n",
              "      <td>NaN</td>\n",
              "      <td>NaN</td>\n",
              "    </tr>\n",
              "    <tr>\n",
              "      <th>air_temperature</th>\n",
              "      <td>80</td>\n",
              "      <td>NaN</td>\n",
              "      <td>NaN</td>\n",
              "      <td>NaN</td>\n",
              "      <td>13.2437</td>\n",
              "      <td>5.84337</td>\n",
              "      <td>1.7</td>\n",
              "      <td>8.9</td>\n",
              "      <td>13.3</td>\n",
              "      <td>17.925</td>\n",
              "      <td>25.6</td>\n",
              "    </tr>\n",
              "    <tr>\n",
              "      <th>cloud_coverage</th>\n",
              "      <td>80</td>\n",
              "      <td>NaN</td>\n",
              "      <td>NaN</td>\n",
              "      <td>NaN</td>\n",
              "      <td>3.75</td>\n",
              "      <td>2.94033</td>\n",
              "      <td>0</td>\n",
              "      <td>2</td>\n",
              "      <td>4</td>\n",
              "      <td>6</td>\n",
              "      <td>8</td>\n",
              "    </tr>\n",
              "    <tr>\n",
              "      <th>dew_temperature</th>\n",
              "      <td>80</td>\n",
              "      <td>NaN</td>\n",
              "      <td>NaN</td>\n",
              "      <td>NaN</td>\n",
              "      <td>7.37</td>\n",
              "      <td>6.79461</td>\n",
              "      <td>-3.9</td>\n",
              "      <td>2.2</td>\n",
              "      <td>7.8</td>\n",
              "      <td>11.825</td>\n",
              "      <td>19.4</td>\n",
              "    </tr>\n",
              "    <tr>\n",
              "      <th>precip_depth_1_hr</th>\n",
              "      <td>80</td>\n",
              "      <td>NaN</td>\n",
              "      <td>NaN</td>\n",
              "      <td>NaN</td>\n",
              "      <td>0.9625</td>\n",
              "      <td>4.1352</td>\n",
              "      <td>-1</td>\n",
              "      <td>0</td>\n",
              "      <td>0</td>\n",
              "      <td>0</td>\n",
              "      <td>23</td>\n",
              "    </tr>\n",
              "    <tr>\n",
              "      <th>sea_level_pressure</th>\n",
              "      <td>80</td>\n",
              "      <td>NaN</td>\n",
              "      <td>NaN</td>\n",
              "      <td>NaN</td>\n",
              "      <td>1021.08</td>\n",
              "      <td>3.82411</td>\n",
              "      <td>1008.8</td>\n",
              "      <td>1018.77</td>\n",
              "      <td>1022.4</td>\n",
              "      <td>1023.9</td>\n",
              "      <td>1027</td>\n",
              "    </tr>\n",
              "    <tr>\n",
              "      <th>wind_direction</th>\n",
              "      <td>80</td>\n",
              "      <td>NaN</td>\n",
              "      <td>NaN</td>\n",
              "      <td>NaN</td>\n",
              "      <td>143.25</td>\n",
              "      <td>133.12</td>\n",
              "      <td>0</td>\n",
              "      <td>10</td>\n",
              "      <td>100</td>\n",
              "      <td>290</td>\n",
              "      <td>360</td>\n",
              "    </tr>\n",
              "    <tr>\n",
              "      <th>wind_speed</th>\n",
              "      <td>80</td>\n",
              "      <td>NaN</td>\n",
              "      <td>NaN</td>\n",
              "      <td>NaN</td>\n",
              "      <td>3.125</td>\n",
              "      <td>2.36592</td>\n",
              "      <td>0</td>\n",
              "      <td>1.5</td>\n",
              "      <td>3.1</td>\n",
              "      <td>4.725</td>\n",
              "      <td>8.8</td>\n",
              "    </tr>\n",
              "  </tbody>\n",
              "</table>\n",
              "</div>"
            ],
            "text/plain": [
              "                   count unique                  top  ...     50%      75%      max\n",
              "site_id               80    NaN                  NaN  ...       4        5        7\n",
              "primary_use           80      8            Education  ...     NaN      NaN      NaN\n",
              "square_feet           80    NaN                  NaN  ...   65922   118895   409028\n",
              "year_built            80    NaN                  NaN  ...    1959     1976     2016\n",
              "floor_count           80    NaN                  NaN  ...       4        7       21\n",
              "meter                 80    NaN                  NaN  ...       0        0        3\n",
              "timestamp             80      1  2016-01-01 00:00:00  ...     NaN      NaN      NaN\n",
              "meter_reading         80    NaN                  NaN  ...   35.43  86.7825  1216.68\n",
              "site_id               80    NaN                  NaN  ...       0        0        0\n",
              "timestamp             80     80  2016-01-28 18:00:00  ...     NaN      NaN      NaN\n",
              "air_temperature       80    NaN                  NaN  ...    13.3   17.925     25.6\n",
              "cloud_coverage        80    NaN                  NaN  ...       4        6        8\n",
              "dew_temperature       80    NaN                  NaN  ...     7.8   11.825     19.4\n",
              "precip_depth_1_hr     80    NaN                  NaN  ...       0        0       23\n",
              "sea_level_pressure    80    NaN                  NaN  ...  1022.4   1023.9     1027\n",
              "wind_direction        80    NaN                  NaN  ...     100      290      360\n",
              "wind_speed            80    NaN                  NaN  ...     3.1    4.725      8.8\n",
              "\n",
              "[17 rows x 11 columns]"
            ]
          },
          "execution_count": 29,
          "metadata": {},
          "output_type": "execute_result"
        }
      ],
      "source": [
        "# Statistika Sederhana dari data \"Numerik\"-nya dengan cara ditranspose\n",
        "join.describe(include='all').transpose()"
      ]
    },
    {
      "cell_type": "markdown",
      "metadata": {
        "id": "be0BbvNGsI9V"
      },
      "source": [
        "# **Menyimpan Hasil Prepocessed Data Join**\n",
        "\n",
        "### Karena sudah selesai dengan preprocessed, maka harus disimpan."
      ]
    },
    {
      "cell_type": "code",
      "execution_count": null,
      "metadata": {
        "id": "jxNKVHTWnIFb"
      },
      "outputs": [],
      "source": [
        "join.to_csv(\"data/building_metadata_PreProcessed.csv\", encoding='utf8')"
      ]
    },
    {
      "cell_type": "markdown",
      "metadata": {
        "id": "b7PnV2Gzk9A_"
      },
      "source": [
        "# **Visualisasi Data Join**"
      ]
    },
    {
      "cell_type": "markdown",
      "metadata": {
        "id": "C_Z4o95AHoIv"
      },
      "source": [
        "Setelah dianalisis secara keseluruhan, lalu kami akan memvisualisasikannya sebagai berikut."
      ]
    },
    {
      "cell_type": "code",
      "execution_count": null,
      "metadata": {
        "id": "wtj12Z0Nk8Wn"
      },
      "outputs": [],
      "source": [
        "import warnings; warnings.simplefilter('ignore')\n",
        "import pandas as pd, matplotlib.pyplot as plt, seaborn as sns, numpy as np\n",
        "import matplotlib.cm as cm\n",
        "from collections import Counter\n",
        "plt.style.use('bmh'); sns.set()"
      ]
    },
    {
      "cell_type": "code",
      "execution_count": null,
      "metadata": {
        "colab": {
          "base_uri": "https://localhost:8080/",
          "height": 369
        },
        "id": "Fkqd9sxqkGlv",
        "outputId": "de7b0e14-d776-4148-91ff-fad1f5db7987"
      },
      "outputs": [
        {
          "data": {
            "image/png": "[encoded data removed]",
            "text/plain": [
              "<Figure size 360x360 with 1 Axes>"
            ]
          },
          "metadata": {
            "needs_background": "light"
          },
          "output_type": "display_data"
        }
      ],
      "source": [
        "b = sns.catplot(x=\"square_feet\", y=\"primary_use\", data=join)"
      ]
    },
    {
      "cell_type": "markdown",
      "metadata": {
        "id": "E_B13VI2IJhg"
      },
      "source": [
        "Kami membandingkan antara variabel luas gedung dengan variabel peruntukkan gedung, hasil yang didapat dari catplot diatas adalah untuk gedung education memiliki gedung paling luas."
      ]
    },
    {
      "cell_type": "code",
      "execution_count": null,
      "metadata": {
        "colab": {
          "base_uri": "https://localhost:8080/",
          "height": 275
        },
        "id": "jcnG6EUmP8PE",
        "outputId": "8b3d1bf4-7770-4f20-83c4-c167c85b23fc"
      },
      "outputs": [
        {
          "data": {
            "image/png": "[encoded data removed]",
            "text/plain": [
              "<Figure size 3600x720 with 1 Axes>"
            ]
          },
          "metadata": {
            "needs_background": "light"
          },
          "output_type": "display_data"
        }
      ],
      "source": [
        "plt.figure(figsize=(50,10))\n",
        "p = sns.countplot(x=\"primary_use\", data=join)"
      ]
    },
    {
      "cell_type": "markdown",
      "metadata": {
        "id": "Owni0tOK0g27"
      },
      "source": [
        "Pada data diatas peruntukkan gedung untuk education lebih banyak dibangun daripada gedung-gedung lainnya"
      ]
    },
    {
      "cell_type": "code",
      "execution_count": null,
      "metadata": {
        "colab": {
          "base_uri": "https://localhost:8080/",
          "height": 576
        },
        "id": "IEEm8EK8zjwL",
        "outputId": "198fe109-69c7-4ae0-df76-e6733f1ea27a"
      },
      "outputs": [
        {
          "data": {
            "text/html": [
              "<div>\n",
              "<style scoped>\n",
              "    .dataframe tbody tr th:only-of-type {\n",
              "        vertical-align: middle;\n",
              "    }\n",
              "\n",
              "    .dataframe tbody tr th {\n",
              "        vertical-align: top;\n",
              "    }\n",
              "\n",
              "    .dataframe thead th {\n",
              "        text-align: right;\n",
              "    }\n",
              "</style>\n",
              "<table border=\"1\" class=\"dataframe\">\n",
              "  <thead>\n",
              "    <tr style=\"text-align: right;\">\n",
              "      <th>floor_count</th>\n",
              "      <th>1.0</th>\n",
              "      <th>2.0</th>\n",
              "      <th>3.0</th>\n",
              "      <th>4.0</th>\n",
              "      <th>5.0</th>\n",
              "      <th>6.0</th>\n",
              "      <th>7.0</th>\n",
              "      <th>8.0</th>\n",
              "      <th>9.0</th>\n",
              "      <th>10.0</th>\n",
              "      <th>11.0</th>\n",
              "      <th>13.0</th>\n",
              "      <th>14.0</th>\n",
              "      <th>21.0</th>\n",
              "    </tr>\n",
              "    <tr>\n",
              "      <th>primary_use</th>\n",
              "      <th></th>\n",
              "      <th></th>\n",
              "      <th></th>\n",
              "      <th></th>\n",
              "      <th></th>\n",
              "      <th></th>\n",
              "      <th></th>\n",
              "      <th></th>\n",
              "      <th></th>\n",
              "      <th></th>\n",
              "      <th></th>\n",
              "      <th></th>\n",
              "      <th></th>\n",
              "      <th></th>\n",
              "    </tr>\n",
              "  </thead>\n",
              "  <tbody>\n",
              "    <tr>\n",
              "      <th>Education</th>\n",
              "      <td>2</td>\n",
              "      <td>9</td>\n",
              "      <td>4</td>\n",
              "      <td>9</td>\n",
              "      <td>7</td>\n",
              "      <td>3</td>\n",
              "      <td>4</td>\n",
              "      <td>5</td>\n",
              "      <td>3</td>\n",
              "      <td>2</td>\n",
              "      <td>1</td>\n",
              "      <td>1</td>\n",
              "      <td>1</td>\n",
              "      <td>1</td>\n",
              "    </tr>\n",
              "    <tr>\n",
              "      <th>Entertainment/public assembly</th>\n",
              "      <td>2</td>\n",
              "      <td>1</td>\n",
              "      <td>0</td>\n",
              "      <td>1</td>\n",
              "      <td>1</td>\n",
              "      <td>1</td>\n",
              "      <td>0</td>\n",
              "      <td>0</td>\n",
              "      <td>0</td>\n",
              "      <td>0</td>\n",
              "      <td>0</td>\n",
              "      <td>0</td>\n",
              "      <td>0</td>\n",
              "      <td>0</td>\n",
              "    </tr>\n",
              "    <tr>\n",
              "      <th>Food sales and service</th>\n",
              "      <td>0</td>\n",
              "      <td>0</td>\n",
              "      <td>0</td>\n",
              "      <td>0</td>\n",
              "      <td>0</td>\n",
              "      <td>0</td>\n",
              "      <td>0</td>\n",
              "      <td>0</td>\n",
              "      <td>0</td>\n",
              "      <td>0</td>\n",
              "      <td>0</td>\n",
              "      <td>0</td>\n",
              "      <td>0</td>\n",
              "      <td>0</td>\n",
              "    </tr>\n",
              "    <tr>\n",
              "      <th>Healthcare</th>\n",
              "      <td>0</td>\n",
              "      <td>0</td>\n",
              "      <td>0</td>\n",
              "      <td>0</td>\n",
              "      <td>0</td>\n",
              "      <td>0</td>\n",
              "      <td>0</td>\n",
              "      <td>0</td>\n",
              "      <td>0</td>\n",
              "      <td>0</td>\n",
              "      <td>0</td>\n",
              "      <td>0</td>\n",
              "      <td>0</td>\n",
              "      <td>0</td>\n",
              "    </tr>\n",
              "    <tr>\n",
              "      <th>Lodging/residential</th>\n",
              "      <td>0</td>\n",
              "      <td>0</td>\n",
              "      <td>1</td>\n",
              "      <td>1</td>\n",
              "      <td>0</td>\n",
              "      <td>0</td>\n",
              "      <td>0</td>\n",
              "      <td>1</td>\n",
              "      <td>0</td>\n",
              "      <td>0</td>\n",
              "      <td>0</td>\n",
              "      <td>0</td>\n",
              "      <td>0</td>\n",
              "      <td>0</td>\n",
              "    </tr>\n",
              "    <tr>\n",
              "      <th>Manufacturing/industrial</th>\n",
              "      <td>0</td>\n",
              "      <td>1</td>\n",
              "      <td>0</td>\n",
              "      <td>0</td>\n",
              "      <td>0</td>\n",
              "      <td>0</td>\n",
              "      <td>0</td>\n",
              "      <td>0</td>\n",
              "      <td>0</td>\n",
              "      <td>0</td>\n",
              "      <td>0</td>\n",
              "      <td>0</td>\n",
              "      <td>0</td>\n",
              "      <td>0</td>\n",
              "    </tr>\n",
              "    <tr>\n",
              "      <th>Office</th>\n",
              "      <td>2</td>\n",
              "      <td>4</td>\n",
              "      <td>2</td>\n",
              "      <td>1</td>\n",
              "      <td>1</td>\n",
              "      <td>0</td>\n",
              "      <td>0</td>\n",
              "      <td>1</td>\n",
              "      <td>0</td>\n",
              "      <td>0</td>\n",
              "      <td>0</td>\n",
              "      <td>0</td>\n",
              "      <td>0</td>\n",
              "      <td>0</td>\n",
              "    </tr>\n",
              "    <tr>\n",
              "      <th>Other</th>\n",
              "      <td>0</td>\n",
              "      <td>0</td>\n",
              "      <td>0</td>\n",
              "      <td>0</td>\n",
              "      <td>0</td>\n",
              "      <td>0</td>\n",
              "      <td>0</td>\n",
              "      <td>0</td>\n",
              "      <td>0</td>\n",
              "      <td>0</td>\n",
              "      <td>0</td>\n",
              "      <td>0</td>\n",
              "      <td>0</td>\n",
              "      <td>0</td>\n",
              "    </tr>\n",
              "    <tr>\n",
              "      <th>Parking</th>\n",
              "      <td>0</td>\n",
              "      <td>0</td>\n",
              "      <td>0</td>\n",
              "      <td>0</td>\n",
              "      <td>0</td>\n",
              "      <td>0</td>\n",
              "      <td>0</td>\n",
              "      <td>0</td>\n",
              "      <td>0</td>\n",
              "      <td>0</td>\n",
              "      <td>0</td>\n",
              "      <td>0</td>\n",
              "      <td>0</td>\n",
              "      <td>0</td>\n",
              "    </tr>\n",
              "    <tr>\n",
              "      <th>Public services</th>\n",
              "      <td>0</td>\n",
              "      <td>0</td>\n",
              "      <td>0</td>\n",
              "      <td>1</td>\n",
              "      <td>1</td>\n",
              "      <td>1</td>\n",
              "      <td>1</td>\n",
              "      <td>0</td>\n",
              "      <td>0</td>\n",
              "      <td>0</td>\n",
              "      <td>0</td>\n",
              "      <td>0</td>\n",
              "      <td>0</td>\n",
              "      <td>0</td>\n",
              "    </tr>\n",
              "    <tr>\n",
              "      <th>Religious worship</th>\n",
              "      <td>0</td>\n",
              "      <td>0</td>\n",
              "      <td>0</td>\n",
              "      <td>0</td>\n",
              "      <td>0</td>\n",
              "      <td>0</td>\n",
              "      <td>0</td>\n",
              "      <td>0</td>\n",
              "      <td>0</td>\n",
              "      <td>0</td>\n",
              "      <td>0</td>\n",
              "      <td>0</td>\n",
              "      <td>0</td>\n",
              "      <td>0</td>\n",
              "    </tr>\n",
              "    <tr>\n",
              "      <th>Retail</th>\n",
              "      <td>0</td>\n",
              "      <td>0</td>\n",
              "      <td>0</td>\n",
              "      <td>0</td>\n",
              "      <td>0</td>\n",
              "      <td>0</td>\n",
              "      <td>0</td>\n",
              "      <td>0</td>\n",
              "      <td>0</td>\n",
              "      <td>0</td>\n",
              "      <td>0</td>\n",
              "      <td>0</td>\n",
              "      <td>0</td>\n",
              "      <td>0</td>\n",
              "    </tr>\n",
              "    <tr>\n",
              "      <th>Services</th>\n",
              "      <td>0</td>\n",
              "      <td>0</td>\n",
              "      <td>0</td>\n",
              "      <td>0</td>\n",
              "      <td>0</td>\n",
              "      <td>0</td>\n",
              "      <td>0</td>\n",
              "      <td>0</td>\n",
              "      <td>0</td>\n",
              "      <td>0</td>\n",
              "      <td>0</td>\n",
              "      <td>0</td>\n",
              "      <td>0</td>\n",
              "      <td>0</td>\n",
              "    </tr>\n",
              "    <tr>\n",
              "      <th>Technology/science</th>\n",
              "      <td>0</td>\n",
              "      <td>0</td>\n",
              "      <td>0</td>\n",
              "      <td>1</td>\n",
              "      <td>1</td>\n",
              "      <td>0</td>\n",
              "      <td>0</td>\n",
              "      <td>0</td>\n",
              "      <td>0</td>\n",
              "      <td>0</td>\n",
              "      <td>0</td>\n",
              "      <td>0</td>\n",
              "      <td>0</td>\n",
              "      <td>0</td>\n",
              "    </tr>\n",
              "    <tr>\n",
              "      <th>Utility</th>\n",
              "      <td>0</td>\n",
              "      <td>1</td>\n",
              "      <td>0</td>\n",
              "      <td>0</td>\n",
              "      <td>0</td>\n",
              "      <td>0</td>\n",
              "      <td>0</td>\n",
              "      <td>0</td>\n",
              "      <td>0</td>\n",
              "      <td>0</td>\n",
              "      <td>0</td>\n",
              "      <td>0</td>\n",
              "      <td>0</td>\n",
              "      <td>0</td>\n",
              "    </tr>\n",
              "    <tr>\n",
              "      <th>Warehouse/storage</th>\n",
              "      <td>0</td>\n",
              "      <td>0</td>\n",
              "      <td>0</td>\n",
              "      <td>0</td>\n",
              "      <td>0</td>\n",
              "      <td>0</td>\n",
              "      <td>0</td>\n",
              "      <td>0</td>\n",
              "      <td>0</td>\n",
              "      <td>0</td>\n",
              "      <td>0</td>\n",
              "      <td>0</td>\n",
              "      <td>0</td>\n",
              "      <td>0</td>\n",
              "    </tr>\n",
              "  </tbody>\n",
              "</table>\n",
              "</div>"
            ],
            "text/plain": [
              "floor_count                    1.0   2.0   3.0   4.0   ...  11.0  13.0  14.0  21.0\n",
              "primary_use                                            ...                        \n",
              "Education                         2     9     4     9  ...     1     1     1     1\n",
              "Entertainment/public assembly     2     1     0     1  ...     0     0     0     0\n",
              "Food sales and service            0     0     0     0  ...     0     0     0     0\n",
              "Healthcare                        0     0     0     0  ...     0     0     0     0\n",
              "Lodging/residential               0     0     1     1  ...     0     0     0     0\n",
              "Manufacturing/industrial          0     1     0     0  ...     0     0     0     0\n",
              "Office                            2     4     2     1  ...     0     0     0     0\n",
              "Other                             0     0     0     0  ...     0     0     0     0\n",
              "Parking                           0     0     0     0  ...     0     0     0     0\n",
              "Public services                   0     0     0     1  ...     0     0     0     0\n",
              "Religious worship                 0     0     0     0  ...     0     0     0     0\n",
              "Retail                            0     0     0     0  ...     0     0     0     0\n",
              "Services                          0     0     0     0  ...     0     0     0     0\n",
              "Technology/science                0     0     0     1  ...     0     0     0     0\n",
              "Utility                           0     1     0     0  ...     0     0     0     0\n",
              "Warehouse/storage                 0     0     0     0  ...     0     0     0     0\n",
              "\n",
              "[16 rows x 14 columns]"
            ]
          },
          "execution_count": 33,
          "metadata": {},
          "output_type": "execute_result"
        }
      ],
      "source": [
        "join.groupby([\"primary_use\", \"floor_count\"]).size().unstack()"
      ]
    },
    {
      "cell_type": "markdown",
      "metadata": {
        "id": "yW28Tklp0d96"
      },
      "source": [
        "Data diatas menunjukkan jumlah lantai pada setiap gedung yang dibangun. Gedung dengan dua lantai adalah gedung yang paling banyak dibangun"
      ]
    },
    {
      "cell_type": "code",
      "execution_count": null,
      "metadata": {
        "colab": {
          "base_uri": "https://localhost:8080/",
          "height": 631
        },
        "id": "1LzKEtMkzjtZ",
        "outputId": "ce7b32f3-c2d3-4dcc-a946-ef608199d3a3"
      },
      "outputs": [
        {
          "data": {
            "image/png": "[encoded data removed]",
            "text/plain": [
              "<Figure size 1440x720 with 1 Axes>"
            ]
          },
          "metadata": {
            "needs_background": "light"
          },
          "output_type": "display_data"
        }
      ],
      "source": [
        "CT = pd.crosstab(index=join[\"year_built\"], columns=join[\"primary_use\"])\n",
        "p = CT.plot(kind=\"bar\", figsize=(20,10), stacked=True)"
      ]
    },
    {
      "cell_type": "markdown",
      "metadata": {
        "id": "6hnRB6sE0XbZ"
      },
      "source": [
        "Dari data dapat kita lihat tahun-tahun gedung dibuat dan pada tahun 1976 pembangunan gedung mengalami kenaikan. Dimana gedung untuk education yang paling banyak dibangun"
      ]
    },
    {
      "cell_type": "code",
      "execution_count": null,
      "metadata": {
        "colab": {
          "base_uri": "https://localhost:8080/",
          "height": 368
        },
        "id": "Sgvm_ERnpBdY",
        "outputId": "35f096b3-e320-40e7-e850-2c0aff6044dc"
      },
      "outputs": [
        {
          "name": "stderr",
          "output_type": "stream",
          "text": [
            "/usr/local/lib/python3.7/dist-packages/seaborn/distributions.py:2619: FutureWarning: `distplot` is a deprecated function and will be removed in a future version. Please adapt your code to use either `displot` (a figure-level function with similar flexibility) or `histplot` (an axes-level function for histograms).\n",
            "  warnings.warn(msg, FutureWarning)\n",
            "/usr/local/lib/python3.7/dist-packages/seaborn/distributions.py:2103: FutureWarning: The `axis` variable is no longer used and will be removed. Instead, assign variables directly to `x` or `y`.\n",
            "  warnings.warn(msg, FutureWarning)\n"
          ]
        },
        {
          "data": {
            "image/png": "[encoded data removed]",
            "text/plain": [
              "<Figure size 432x288 with 1 Axes>"
            ]
          },
          "metadata": {
            "needs_background": "light"
          },
          "output_type": "display_data"
        }
      ],
      "source": [
        "p = sns.distplot(join['air_temperature'], kde=True, rug=True)"
      ]
    },
    {
      "cell_type": "code",
      "execution_count": null,
      "metadata": {
        "colab": {
          "base_uri": "https://localhost:8080/"
        },
        "id": "LVxvb62mpYjs",
        "outputId": "b8455e3d-07fc-44b2-bd40-d12c344a8622"
      },
      "outputs": [
        {
          "name": "stdout",
          "output_type": "stream",
          "text": [
            "(80,)\n"
          ]
        },
        {
          "data": {
            "text/plain": [
              "107    True\n",
              "108    True\n",
              "109    True\n",
              "110    True\n",
              "111    True\n",
              "Name: air_temperature, dtype: bool"
            ]
          },
          "execution_count": 36,
          "metadata": {},
          "output_type": "execute_result"
        }
      ],
      "source": [
        "# Misal dengan asumsi data berdistribusi normal\n",
        "# dan menggunakan 95% confidence interval di sekitar variabel\n",
        "\n",
        "df = np.abs(join.air_temperature - join.air_temperature.mean())<=(2*join.air_temperature.std())\n",
        "# mu-2s<x<mu+2s\n",
        "print(df.shape)\n",
        "df.head()"
      ]
    },
    {
      "cell_type": "code",
      "execution_count": null,
      "metadata": {
        "colab": {
          "base_uri": "https://localhost:8080/"
        },
        "id": "xOHu38G6pq5Q",
        "outputId": "bdaf9bed-dd4b-4b77-ce14-950fe361613e"
      },
      "outputs": [
        {
          "name": "stdout",
          "output_type": "stream",
          "text": [
            "(80, 17) (80, 17)\n"
          ]
        }
      ],
      "source": [
        "join2 = join[df] # Data tanpa outliers\n",
        "print(join.shape, join.shape)\n",
        "# Perhatikan disini sengaja data yang telah di remove outliernya\n",
        "# disimpan dalam variabel baru \"join2\"\n",
        "# Jika datanya besar hati-hati melakukan hal ini"
      ]
    },
    {
      "cell_type": "code",
      "execution_count": null,
      "metadata": {
        "colab": {
          "base_uri": "https://localhost:8080/",
          "height": 368
        },
        "id": "6746nA9Cp7xP",
        "outputId": "ef4e0796-bedd-421e-c83e-d15cb26f955e"
      },
      "outputs": [
        {
          "name": "stderr",
          "output_type": "stream",
          "text": [
            "/usr/local/lib/python3.7/dist-packages/seaborn/distributions.py:2619: FutureWarning: `distplot` is a deprecated function and will be removed in a future version. Please adapt your code to use either `displot` (a figure-level function with similar flexibility) or `histplot` (an axes-level function for histograms).\n",
            "  warnings.warn(msg, FutureWarning)\n",
            "/usr/local/lib/python3.7/dist-packages/seaborn/distributions.py:2103: FutureWarning: The `axis` variable is no longer used and will be removed. Instead, assign variables directly to `x` or `y`.\n",
            "  warnings.warn(msg, FutureWarning)\n"
          ]
        },
        {
          "data": {
            "image/png": "[encoded data removed]",
            "text/plain": [
              "<Figure size 432x288 with 1 Axes>"
            ]
          },
          "metadata": {
            "needs_background": "light"
          },
          "output_type": "display_data"
        }
      ],
      "source": [
        "p = sns.distplot(join2['air_temperature'], kde=True, rug=True)"
      ]
    },
    {
      "cell_type": "markdown",
      "metadata": {
        "id": "37n4UYzNTcVV"
      },
      "source": [
        "Dari distplot diatas dapat disimpulkan bahwa rata-rata suhu udara berada di 13 derajat celcius dan memiliki standar deviasi yang menyebar."
      ]
    },
    {
      "cell_type": "code",
      "execution_count": null,
      "metadata": {
        "colab": {
          "base_uri": "https://localhost:8080/",
          "height": 1000
        },
        "id": "OTQmrIUBReWn",
        "outputId": "7bba1645-a001-44a5-d175-750f604f89ae"
      },
      "outputs": [
        {
          "data": {
            "image/png": "[encoded data removed]",
            "text/plain": [
              "<Figure size 1440x720 with 1 Axes>"
            ]
          },
          "metadata": {
            "needs_background": "light"
          },
          "output_type": "display_data"
        }
      ],
      "source": [
        "CT = pd.crosstab(index=join[\"floor_count\"], columns=join[\"meter_reading\"])\n",
        "q = CT.plot(kind=\"bar\", figsize=(20,10), stacked=True)"
      ]
    },
    {
      "cell_type": "markdown",
      "metadata": {
        "id": "kav8zNz6SYgZ"
      },
      "source": [
        "Dari plot diatas dapat disimpulkan bahwa lantai 2 menggunakan energi yang paling besar."
      ]
    },
    {
      "cell_type": "code",
      "execution_count": null,
      "metadata": {
        "colab": {
          "base_uri": "https://localhost:8080/",
          "height": 1000
        },
        "id": "2RFjEM9yZRBh",
        "outputId": "fd7b6fbb-44dc-40ed-e399-c959f1ac9375"
      },
      "outputs": [
        {
          "data": {
            "image/png": "[encoded data removed]",
            "text/plain": [
              "<Figure size 1440x720 with 1 Axes>"
            ]
          },
          "metadata": {
            "needs_background": "light"
          },
          "output_type": "display_data"
        }
      ],
      "source": [
        "CT = pd.crosstab(index=join[\"primary_use\"], columns=join[\"meter_reading\"])\n",
        "t = CT.plot(kind=\"bar\", figsize=(20,10), stacked=True)"
      ]
    },
    {
      "cell_type": "markdown",
      "metadata": {
        "id": "0_9BRoUSZeqh"
      },
      "source": [
        "Dapat disimpulkan dari plot diatas bahwa gedung education penggunaan energinya lebih besar dari gedung office dan gedung-gedung lainnya."
      ]
    },
    {
      "cell_type": "code",
      "execution_count": null,
      "metadata": {
        "colab": {
          "base_uri": "https://localhost:8080/",
          "height": 788
        },
        "id": "m3At74Y4Stuu",
        "outputId": "7eec739f-a295-4662-a8a1-a723e73b9e26"
      },
      "outputs": [
        {
          "data": {
            "image/png": "[encoded data removed]",
            "text/plain": [
              "<Figure size 1440x720 with 1 Axes>"
            ]
          },
          "metadata": {
            "needs_background": "light"
          },
          "output_type": "display_data"
        }
      ],
      "source": [
        "CT = pd.crosstab(index=join[\"primary_use\"], columns=join[\"air_temperature\"])\n",
        "q = CT.plot(kind=\"bar\", figsize=(20,10), stacked=True)"
      ]
    },
    {
      "cell_type": "markdown",
      "metadata": {
        "id": "fBTbys36TOAC"
      },
      "source": [
        "Fungsi gedung edukasi memiliki suhu udara yang paling tinggi."
      ]
    }
  ],
  "metadata": {
    "colab": {
      "provenance": [],
      "include_colab_link": true
    },
    "kernelspec": {
      "display_name": "Python 3 (ipykernel)",
      "language": "python",
      "name": "python3"
    },
    "language_info": {
      "codemirror_mode": {
        "name": "ipython",
        "version": 3
      },
      "file_extension": ".py",
      "mimetype": "text/x-python",
      "name": "python",
      "nbconvert_exporter": "python",
      "pygments_lexer": "ipython3",
      "version": "3.11.3"
    },
    "vp": {
      "vp_config_version": "1.0.0",
      "vp_menu_width": 273,
      "vp_note_display": false,
      "vp_note_width": 0,
      "vp_position": {
        "width": 278
      },
      "vp_section_display": false,
      "vp_signature": "VisualPython"
    }
  },
  "nbformat": 4,
  "nbformat_minor": 0
}